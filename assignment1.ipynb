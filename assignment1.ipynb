{
 "cells": [
  {
   "cell_type": "markdown",
   "id": "e79df0d4",
   "metadata": {},
   "source": [
    "# Pyhton basic Questions\n",
    "\n",
    "#"
   ]
  },
  {
   "cell_type": "markdown",
   "id": "76c5e7c4",
   "metadata": {},
   "source": [
    "#### Q1 What is Python and why its popular \n",
    "Ans -> **Python** is a simple, easy-to-learn programming language known for its readability and versatility. It's popular because it's used in web development, data science, AI, automation, and more, with strong library support and a large community.\n",
    "  ####"
   ]
  },
  {
   "cell_type": "markdown",
   "id": "644b6479",
   "metadata": {},
   "source": [
    "### Q2 what is an interpreter in python ?\n",
    "##### Ans ->An **interpreter** in Python is a program that **reads and executes Python code line by line**. It translates the high-level Python code into machine code at runtime, allowing the program to run without needing prior compilation. This makes Python easy to test and debug, but sometimes slower than compiled languages.\n"
   ]
  },
  {
   "cell_type": "markdown",
   "id": "2da8fd55",
   "metadata": {},
   "source": [
    "### Q3 what are pre defined keywords in python ?\n",
    "##### Ans -> if, else, elif, while, for, break, continue, def, return,class, try, except, finally, import, from, pass, True, False, None\n"
   ]
  },
  {
   "cell_type": "markdown",
   "id": "57a6a259",
   "metadata": {},
   "source": [
    "### Q4 can keywords be used as variable names ?\n",
    "##### Ans -> No"
   ]
  },
  {
   "cell_type": "markdown",
   "id": "3c51e4b9",
   "metadata": {},
   "source": [
    "### Q5 what is mutablity in python ?\n",
    "Ans -> Mutability in Python refers to whether an object’s value can be changed after it is created.\n",
    "\n"
   ]
  },
  {
   "cell_type": "markdown",
   "id": "d7e1a2e6",
   "metadata": {},
   "source": [
    "### Q6 why are list mutbale and tuples not ?\n",
    "Ans -> Use a list when your data might change.\n",
    "Use a tuple when your data should stay fixed or be used in sets/dicts as keys.\n"
   ]
  },
  {
   "cell_type": "markdown",
   "id": "998233d3",
   "metadata": {},
   "source": [
    "### Q7 what is diff bn '==' and 'is' in python ? \n",
    "Ans-> ==  Value Equality\n",
    "Checks if two variables have the same value\n",
    "Does not care if they are stored at the same memory location\n",
    "is → Identity Comparison\n",
    "Checks if two variables refer to the exact same object in memory"
   ]
  },
  {
   "cell_type": "markdown",
   "id": "4838b549",
   "metadata": {},
   "source": [
    "### Q8 What are Logical Operators in Python?\n",
    "Ans -> Logical operators in Python are used to combine multiple conditions (Boolean expressions) and return True or False based on logic"
   ]
  },
  {
   "cell_type": "markdown",
   "id": "2eecdae9",
   "metadata": {},
   "source": [
    "### Q9 what is type casting in python?\n",
    "Ans -> Type casting in Python means converting one data type into another.\n",
    "\n",
    "For example, converting:\n",
    "\n",
    "A string to an integer\n"
   ]
  },
  {
   "cell_type": "markdown",
   "id": "3438bfff",
   "metadata": {},
   "source": [
    "### Q10 what is Difference Between Implicit and Explicit Type Casting in Python ?\n",
    "Ans ->1. Implicit Type Casting (Automatic)\n",
    "Done by Python automatically\n",
    "Happens when combining values of different types\n",
    "No data loss, safe conversion\n",
    "2. Explicit Type Casting (Manual)\n",
    "Done by the programmer\n",
    "Uses built-in functions like int(), float(), str(), etc.\n",
    "May cause data loss or errors if not used carefully"
   ]
  },
  {
   "cell_type": "markdown",
   "id": "18268c50",
   "metadata": {},
   "source": [
    "### Q11  What is the Purpose of Conditional Statements in Python?\n",
    "Ans -> Conditional statements in Python are used to make decisions in your code. They allow the program to execute certain blocks of code only when specific conditions are met."
   ]
  },
  {
   "cell_type": "markdown",
   "id": "3b85c144",
   "metadata": {},
   "source": [
    "### Q12  How Does the elif Statement Work in Python?\n",
    "Ans -> The elif statement in Python stands for \"else if\". It's used to check multiple conditions one by one after an if statement."
   ]
  },
  {
   "cell_type": "markdown",
   "id": "4889a6c8",
   "metadata": {},
   "source": [
    "### Q13 what is Difference Between for Loop and while Loop in Python ?\n",
    "Ans ->  for Loop\n",
    "Used when you know exactly how many times you want to loop.\n",
    "Typically used to iterate over a sequence like a list, string, or range.while Loop\n",
    "Used when you want to loop until a condition becomes False.\n",
    "You don’t always know how many times it will run."
   ]
  },
  {
   "cell_type": "markdown",
   "id": "7b7da7df",
   "metadata": {},
   "source": [
    "### Q14 Describe Scenario Where a while Loop is Better Than a for Loop ?\n",
    "Ans -> You want the user to enter the correct ATM PIN. They should get 3 attempts max, but the loop should stop as soon as the correct PIN is entered."
   ]
  },
  {
   "cell_type": "markdown",
   "id": "7917a45f",
   "metadata": {},
   "source": [
    "# Practical Questions"
   ]
  },
  {
   "cell_type": "markdown",
   "id": "9fce055b",
   "metadata": {},
   "source": [
    "### Q1 Print hello world ."
   ]
  },
  {
   "cell_type": "code",
   "execution_count": 1,
   "id": "0664e0f2",
   "metadata": {},
   "outputs": [
    {
     "name": "stdout",
     "output_type": "stream",
     "text": [
      "Hello workd\n"
     ]
    }
   ],
   "source": [
    "print('Hello workd')"
   ]
  },
  {
   "cell_type": "markdown",
   "id": "b4bcd85e",
   "metadata": {},
   "source": [
    "# Q2 Display your name age"
   ]
  },
  {
   "cell_type": "code",
   "execution_count": 2,
   "id": "901a91d0",
   "metadata": {},
   "outputs": [
    {
     "name": "stdout",
     "output_type": "stream",
     "text": [
      "my name is siddhant and my age is 23\n"
     ]
    }
   ],
   "source": [
    "name = 'siddhant'\n",
    "age = 23 \n",
    "print(f'my name is {name} and my age is {age}')"
   ]
  },
  {
   "cell_type": "markdown",
   "id": "17de0ea2",
   "metadata": {},
   "source": [
    "# Q3 print all pre def keywords in python "
   ]
  },
  {
   "cell_type": "code",
   "execution_count": 18,
   "id": "96350f06",
   "metadata": {},
   "outputs": [
    {
     "name": "stdout",
     "output_type": "stream",
     "text": [
      "All Python Keywords:\n",
      "False\n",
      "None\n",
      "True\n",
      "__peg_parser__\n",
      "and\n",
      "as\n",
      "assert\n",
      "async\n",
      "await\n",
      "break\n",
      "class\n",
      "continue\n",
      "def\n",
      "del\n",
      "elif\n",
      "else\n",
      "except\n",
      "finally\n",
      "for\n",
      "from\n",
      "global\n",
      "if\n",
      "import\n",
      "in\n",
      "is\n",
      "lambda\n",
      "nonlocal\n",
      "not\n",
      "or\n",
      "pass\n",
      "raise\n",
      "return\n",
      "try\n",
      "while\n",
      "with\n",
      "yield\n"
     ]
    }
   ],
   "source": [
    "# import keyword\n",
    "\n",
    "# print(\"All Python Keywords:\")\n",
    "# print(keyword.kwlist)\n",
    "\n",
    "import keyword\n",
    "\n",
    "print(\"All Python Keywords:\")\n",
    "for i in keyword.kwlist:\n",
    "    print(i)\n",
    "\n"
   ]
  },
  {
   "cell_type": "markdown",
   "id": "bad94db5",
   "metadata": {},
   "source": [
    "# Q4 check if given work is python keyword or not ?"
   ]
  },
  {
   "cell_type": "code",
   "execution_count": 19,
   "id": "1f25197b",
   "metadata": {},
   "outputs": [
    {
     "name": "stdout",
     "output_type": "stream",
     "text": [
      "its not a keyword \n"
     ]
    }
   ],
   "source": [
    "# using for loop\n",
    "import keyword\n",
    "given_word = input('enter a word to check : ')\n",
    "flag = False \n",
    "for i in keyword.kwlist:\n",
    "    if(i==given_word):\n",
    "        flag = True\n",
    "        \n",
    "if( flag ):\n",
    "    print('its a key word')\n",
    "else:\n",
    "    print('its not a keyword ')\n",
    "    \n",
    "# using in     \n",
    "\n",
    "# import keyword\n",
    "\n",
    "# given_word = input(\"Enter a word to check: \")\n",
    "\n",
    "# if given_word in keyword.kwlist:\n",
    "#     print(\"It's a keyword.\")\n",
    "# else:\n",
    "#     print(\"It's not a keyword.\")\n",
    "    "
   ]
  },
  {
   "cell_type": "markdown",
   "id": "4ca4a06c",
   "metadata": {},
   "source": [
    "# Q5 Create a list and tuple in Python, and demonstrate how attempting to change an element works differently for each. "
   ]
  },
  {
   "cell_type": "code",
   "execution_count": 16,
   "id": "91e8408f",
   "metadata": {},
   "outputs": [
    {
     "name": "stdout",
     "output_type": "stream",
     "text": [
      "[1, 2, 3, 4, 5, 6]\n",
      "[1, 2, 3, 4, 5, 6, 7]\n",
      "(1, 2, 3, 4, 5, 6)\n",
      "Error: 'tuple' object has no attribute 'append'\n"
     ]
    }
   ],
   "source": [
    "list = [1,2,3,4,5,6]\n",
    "tup = (1,2,3,4,5,6)\n",
    "print(list)\n",
    "list.append(7)\n",
    "print(list)\n",
    "\n",
    "print(tup)\n",
    "try:\n",
    "    tup.append(7)  \n",
    "except AttributeError as e:\n",
    "    print(\"Error:\", e)\n",
    "\n"
   ]
  },
  {
   "cell_type": "markdown",
   "id": "178850c2",
   "metadata": {},
   "source": [
    "# Q6 Write a function to demonstrate the behavior of mutable and immutable arguments."
   ]
  },
  {
   "cell_type": "code",
   "execution_count": 21,
   "id": "a9cb468a",
   "metadata": {},
   "outputs": [
    {
     "name": "stdout",
     "output_type": "stream",
     "text": [
      "num inside func 15\n",
      "list inside func [1, 2, 3, 4, 5, 6, 7]\n",
      "num Outside func: 5\n",
      "list Outside func: [1, 2, 3, 4, 5, 6, 7]\n"
     ]
    }
   ],
   "source": [
    "x = 5\n",
    "list = [1,2,3,4,5,6]\n",
    "def func(num,list):\n",
    "    num+=10\n",
    "    print('num inside func',num)\n",
    "    list.append(7)\n",
    "    print('list inside func',list)\n",
    "    \n",
    "func(x,list)    \n",
    "print(\"num Outside func:\", x)\n",
    "print(\"list Outside func:\", list)\n",
    "\n",
    "     \n",
    " "
   ]
  },
  {
   "cell_type": "markdown",
   "id": "7ffe3e6a",
   "metadata": {},
   "source": [
    "# Q7 arithmatic operation on 2 user inputs "
   ]
  },
  {
   "cell_type": "code",
   "execution_count": 22,
   "id": "07e39cd2",
   "metadata": {},
   "outputs": [
    {
     "name": "stdout",
     "output_type": "stream",
     "text": [
      "Sum = 15 | Sub = 5 | Multiply = 50 | Divide = 2.0\n"
     ]
    }
   ],
   "source": [
    "num1 = int(input('enter num 1 : '))\n",
    "num2 = int(input('enter num 2 : '))\n",
    "\n",
    "print(f\"Sum = {num1 + num2} | Sub = {num1 - num2} | Multiply = {num1 * num2} | Divide = {num1 / num2}\")\n",
    "\n"
   ]
  },
  {
   "cell_type": "markdown",
   "id": "bbc14492",
   "metadata": {},
   "source": [
    "# Q8 program for logical operator "
   ]
  },
  {
   "cell_type": "code",
   "execution_count": null,
   "id": "a06bb467",
   "metadata": {},
   "outputs": [
    {
     "name": "stdout",
     "output_type": "stream",
     "text": [
      "or works when one of them is true\n"
     ]
    }
   ],
   "source": [
    "a = 10\n",
    "b = 20\n",
    "# a = 10\n",
    "# b = 2 \n",
    "if (a==10 and b ==20):\n",
    "    print ('and works when both are true')\n",
    "elif( a ==10 or  b==20):\n",
    "    print('or works when one of them is true')    "
   ]
  },
  {
   "cell_type": "markdown",
   "id": "8aeefcac",
   "metadata": {},
   "source": [
    "# Q9 Write a Python program to convert user input from string to integer, float, and boolean types."
   ]
  },
  {
   "cell_type": "code",
   "execution_count": 26,
   "id": "0e45d282",
   "metadata": {},
   "outputs": [
    {
     "name": "stdout",
     "output_type": "stream",
     "text": [
      "type of int_input 10\n",
      "type of flo_input 10.0\n",
      "type of bool_input True\n"
     ]
    }
   ],
   "source": [
    "user_inp = input('enter any value')\n",
    "int_input = int(user_inp)\n",
    "print('type of int_input',int_input)\n",
    "flo_input = float(user_inp)\n",
    "print('type of flo_input',flo_input)\n",
    "bool_input = bool(user_inp)\n",
    "print('type of bool_input',bool_input)\n",
    "\n"
   ]
  },
  {
   "cell_type": "markdown",
   "id": "c4a4c31c",
   "metadata": {},
   "source": [
    "# Q10 Write a program to demonstrate type casting with list elemnts "
   ]
  },
  {
   "cell_type": "code",
   "execution_count": 1,
   "id": "284c20fd",
   "metadata": {},
   "outputs": [
    {
     "name": "stdout",
     "output_type": "stream",
     "text": [
      "Original (string) list: ['10', '20', '30', '40']\n",
      "After casting to int: [10, 20, 30, 40]\n",
      "After casting to float: [10.0, 20.0, 30.0, 40.0]\n",
      "After casting to bool: [True, True, True, True]\n"
     ]
    }
   ],
   "source": [
    "str_list = ['10', '20', '30', '40']\n",
    "int_list = [int(item) for item in str_list]\n",
    "float_list = [float(item) for item in int_list]\n",
    "bool_list = [bool(item) for item in int_list]\n",
    "\n",
    "print(\"Original (string) list:\", str_list)\n",
    "print(\"After casting to int:\", int_list)\n",
    "print(\"After casting to float:\", float_list)\n",
    "print(\"After casting to bool:\", bool_list)\n"
   ]
  },
  {
   "cell_type": "markdown",
   "id": "72b22593",
   "metadata": {},
   "source": [
    "# Q11 WAP to check if num is +ve -ve or 0."
   ]
  },
  {
   "cell_type": "code",
   "execution_count": 3,
   "id": "a9a86c41",
   "metadata": {},
   "outputs": [
    {
     "name": "stdout",
     "output_type": "stream",
     "text": [
      "ZERO\n"
     ]
    }
   ],
   "source": [
    "check_input = int(input('enter a num'))\n",
    "\n",
    "if(check_input > 0):\n",
    "    print('Positive')\n",
    "elif(check_input < 0):\n",
    "    print('negative')\n",
    "else:\n",
    "    print('ZERO')        "
   ]
  },
  {
   "cell_type": "markdown",
   "id": "7fc2831f",
   "metadata": {},
   "source": [
    "# Q12 Write a for loop to print 1-10 ."
   ]
  },
  {
   "cell_type": "code",
   "execution_count": 6,
   "id": "1dd9e5b5",
   "metadata": {},
   "outputs": [
    {
     "name": "stdout",
     "output_type": "stream",
     "text": [
      "1\n",
      "2\n",
      "3\n",
      "4\n",
      "5\n",
      "6\n",
      "7\n",
      "8\n",
      "9\n",
      "10\n"
     ]
    }
   ],
   "source": [
    "for i in range(10):\n",
    "    print(i+1)"
   ]
  },
  {
   "cell_type": "markdown",
   "id": "64f74dc1",
   "metadata": {},
   "source": [
    "# Q13 WAP to print sum of even num from 1-50 ."
   ]
  },
  {
   "cell_type": "code",
   "execution_count": 10,
   "id": "34df937c",
   "metadata": {},
   "outputs": [
    {
     "name": "stdout",
     "output_type": "stream",
     "text": [
      "650\n"
     ]
    }
   ],
   "source": [
    "sum = 0\n",
    "for i in range(2,51,2):\n",
    "    sum += i\n",
    "print(sum)    "
   ]
  },
  {
   "cell_type": "markdown",
   "id": "58faded2",
   "metadata": {},
   "source": [
    "# Q14 WAP to reverse string using while loop "
   ]
  },
  {
   "cell_type": "code",
   "execution_count": 13,
   "id": "1acf7931",
   "metadata": {},
   "outputs": [
    {
     "name": "stdout",
     "output_type": "stream",
     "text": [
      "d\n",
      "l\n",
      "r\n",
      "o\n",
      "w\n",
      " \n",
      "o\n",
      "l\n",
      "l\n",
      "e\n",
      "H\n"
     ]
    }
   ],
   "source": [
    "str = 'Hello world' \n",
    "i = 1\n",
    "while len(str)-i >= 0:\n",
    "    print(str[len(str)-i])\n",
    "    i+=1"
   ]
  },
  {
   "cell_type": "markdown",
   "id": "c27d85c4",
   "metadata": {},
   "source": [
    "# Q15 WAP to calculate factorial of a num provide by user using while loop "
   ]
  },
  {
   "cell_type": "code",
   "execution_count": null,
   "id": "00cdae47",
   "metadata": {},
   "outputs": [
    {
     "name": "stdout",
     "output_type": "stream",
     "text": [
      "factorial is  6\n"
     ]
    }
   ],
   "source": [
    "inp = int(input('enter a num : '))\n",
    "i = 1\n",
    "fact = 1\n",
    "while i <= inp:\n",
    "    fact *= i\n",
    "    i += 1\n",
    "print('factorial is ',fact)    "
   ]
  }
 ],
 "metadata": {
  "kernelspec": {
   "display_name": "Python 3",
   "language": "python",
   "name": "python3"
  },
  "language_info": {
   "codemirror_mode": {
    "name": "ipython",
    "version": 3
   },
   "file_extension": ".py",
   "mimetype": "text/x-python",
   "name": "python",
   "nbconvert_exporter": "python",
   "pygments_lexer": "ipython3",
   "version": "3.9.6"
  }
 },
 "nbformat": 4,
 "nbformat_minor": 5
}
