{
 "cells": [
  {
   "cell_type": "markdown",
   "id": "c2c3b093",
   "metadata": {},
   "source": [
    "# DATA TYPE AND STURCTURES QUESTIONS "
   ]
  },
  {
   "cell_type": "markdown",
   "id": "97c65cd7",
   "metadata": {},
   "source": [
    "## Q1 - > What are data structure and why they are important ?\n"
   ]
  },
  {
   "cell_type": "markdown",
   "id": "7a6144e3",
   "metadata": {},
   "source": [
    "Ans - > A data structure is a way of organizing, storing, and managing data in a computer so it can be used efficiently.\n",
    "Think of it like different kinds of containers: boxes, shelves, drawers — each designed for a specific purpose so you can store and find things faster.\n"
   ]
  },
  {
   "cell_type": "markdown",
   "id": "78de46b3",
   "metadata": {},
   "source": [
    "# Q2 - > explain diff bn mutable and immutable data type with examples"
   ]
  },
  {
   "cell_type": "markdown",
   "id": "9fd512ed",
   "metadata": {},
   "source": [
    "```\n",
    "Ans -> Mutable Data Type, Their contents can be changed after creation.\n",
    "You can modify, add, or remove elements without creating a new object.\n",
    "Examples:\n",
    "list\n",
    "dict\n",
    "set\n",
    "bytearray\n",
    "\n",
    "Immutable Data Types, Their contents cannot be changed after creation.\n",
    "Any “change” creates a new object in memory.\n",
    "Examples:\n",
    "int\n",
    "float\n",
    "string (str)\n",
    "tuple\n",
    "frozenset\n",
    "bytes\n",
    "```\n"
   ]
  },
  {
   "cell_type": "markdown",
   "id": "80b94e7f",
   "metadata": {},
   "source": [
    "# Q3 - > what are the main diff bn list and tuple ?"
   ]
  },
  {
   "cell_type": "markdown",
   "id": "cb0039b5",
   "metadata": {},
   "source": [
    "Ans - > A list in Python is a mutable data structure, meaning its elements can be changed after creation. It is defined using square brackets [], supports many built-in methods such as append(), remove(), and sort(), and is generally slower and uses more memory compared to a tuple. Lists are used when the data needs to be modified during program execution.\n",
    "A tuple, on the other hand, is immutable, meaning its elements cannot be changed once created. It is defined using parentheses (), has only a few methods like count() and index(), and is faster and more memory-efficient than a list. Tuples are preferred when the data should remain constant throughout the program.\n"
   ]
  },
  {
   "cell_type": "markdown",
   "id": "619acaf3",
   "metadata": {},
   "source": [
    "# Q4 - > Describe how dictionaries stores data "
   ]
  },
  {
   "cell_type": "markdown",
   "id": "a89d0b96",
   "metadata": {},
   "source": [
    "Ans - > In Python, a dictionary stores data in the form of key–value pairs. Each key is unique and acts as an identifier, while the value is the data associated with that key. Internally, dictionaries use a hash table to store and retrieve data quickly. When a key is added, Python calculates its hash value, which determines where the key–value pair is placed in memory. This allows fast lookups, insertions, and deletions based on keys, without having to search through all items. Dictionaries are mutable, meaning new key–value pairs can be added, existing values can be updated, or pairs can be removed."
   ]
  },
  {
   "cell_type": "markdown",
   "id": "03d29558",
   "metadata": {},
   "source": [
    "# Q5 -> why might you use a set in python insted of list ?"
   ]
  },
  {
   "cell_type": "markdown",
   "id": "5baaacc4",
   "metadata": {},
   "source": [
    "\n",
    "You might use a **set** in Python instead of a **list** when you need to store **unique elements** and don’t care about the order of items. Sets automatically remove duplicates and allow **fast membership testing** (checking if an item exists) because they are implemented using **hash tables**. This makes operations like searching, adding, or removing elements more efficient compared to lists, especially for large datasets. However, unlike lists, sets are unordered and do not support indexing or slicing.\n"
   ]
  },
  {
   "cell_type": "markdown",
   "id": "d95b96d1",
   "metadata": {},
   "source": [
    "# Q6 - > what is a string in python how it is diff from list ?"
   ]
  },
  {
   "cell_type": "markdown",
   "id": "ecde8c1e",
   "metadata": {},
   "source": [
    "\n",
    "In Python, a **string** is an **immutable sequence of characters** enclosed in single quotes (`' '`), double quotes (`\" \"`), or triple quotes (`''' '''` / `\"\"\" \"\"\"`). Strings are used to store and manipulate text. Unlike a **list**, which is mutable and can store elements of any data type, a string can only store characters and **cannot be changed after creation** — any modification creates a new string object. Both strings and lists support indexing, slicing, and iteration, but lists allow element reassignment and have more methods for altering their contents, while strings provide text-specific methods like `.upper()`, `.lower()`, and `.replace()`.\n",
    "\n"
   ]
  },
  {
   "cell_type": "markdown",
   "id": "96fccabb",
   "metadata": {},
   "source": [
    "# Q7 - > how tuple ensure data entigrity in python ?"
   ]
  },
  {
   "cell_type": "markdown",
   "id": "cab31f4e",
   "metadata": {},
   "source": [
    "\n",
    "In Python, a **tuple** ensures data integrity because it is **immutable**, meaning its elements cannot be changed, added, or removed after creation. Once a tuple is defined, its content stays the same throughout the program, which prevents accidental modifications and helps maintain consistent, reliable data. This makes tuples ideal for storing **fixed collections of items** such as configuration settings, coordinates, or constant reference values. By restricting changes, tuples safeguard the original data and reduce the risk of bugs caused by unintended updates.\n",
    "\n"
   ]
  },
  {
   "cell_type": "markdown",
   "id": "c38daa6c",
   "metadata": {},
   "source": [
    "# Q8 -> what is a hash table and how it related to dictionary in pyton ?"
   ]
  },
  {
   "cell_type": "markdown",
   "id": "06205edf",
   "metadata": {},
   "source": [
    "\n",
    "A **hash table** is a data structure that stores data in **key–value pairs** and uses a **hash function** to calculate an index (hash value) where each key–value pair is stored in memory. This allows for very fast lookups, insertions, and deletions because the hash function can directly locate the data without scanning the entire structure. In Python, the built-in **`dict` (dictionary)** is implemented using a hash table. When you store a key–value pair in a dictionary, Python computes the hash of the key to decide where to place it in memory. When you look up a value, Python uses the same hash to retrieve it efficiently. Keys in a dictionary must be **hashable** (immutable and unique), such as strings, numbers, or tuples containing only immutable elements.\n",
    "\n"
   ]
  },
  {
   "cell_type": "markdown",
   "id": "9856887f",
   "metadata": {},
   "source": [
    "# Q9 -> can list contain diff data type in python ?"
   ]
  },
  {
   "cell_type": "markdown",
   "id": "c9ff81d1",
   "metadata": {},
   "source": [
    "\n",
    "Yes, a **list** in Python can contain elements of **different data types**. Python lists are dynamic and can store integers, floats, strings, booleans, other lists, tuples, dictionaries, or even custom objects all in the same list. This flexibility is possible because Python is dynamically typed, meaning the type of elements is not fixed at the time of list creation. However, mixing data types in a list can make code harder to manage and may slow down certain operations compared to lists with uniform data types.\n",
    "\n"
   ]
  },
  {
   "cell_type": "markdown",
   "id": "41167931",
   "metadata": {},
   "source": [
    "# Q10 -> explain why strings are immutable in python ?\n"
   ]
  },
  {
   "cell_type": "markdown",
   "id": "614af598",
   "metadata": {},
   "source": [
    "\n",
    "Strings in Python are **immutable**, meaning their contents cannot be changed after creation. This design choice improves **performance**, **memory efficiency**, and **security**. Since strings are widely used for text processing, making them immutable allows Python to safely share and reuse string objects without worrying about accidental modifications. It also enables **hashing** of strings, allowing them to be used as dictionary keys or set elements. When you try to modify a string, Python actually creates a **new string object** in memory instead of changing the original, ensuring the original data remains unchanged.\n",
    "\n"
   ]
  },
  {
   "cell_type": "markdown",
   "id": "2675a2d2",
   "metadata": {},
   "source": [
    "# Q11 -> what advantage dict offer over list for certain task "
   ]
  },
  {
   "cell_type": "markdown",
   "id": "620928be",
   "metadata": {},
   "source": [
    "\n",
    "A **dictionary** offers several advantages over a **list** for certain tasks, especially when you need to store and retrieve data using a **key** instead of a numeric index. Dictionaries provide **faster lookups** because they use a **hash table** internally, allowing direct access to values based on their keys, regardless of the dictionary’s size. They are ideal for scenarios where data is naturally organized as key–value pairs (e.g., storing student names with their grades). In contrast, lists require searching through all elements to find a specific value, which is slower for large datasets. Dictionaries also make code more readable and self-explanatory by using descriptive keys instead of numeric positions.\n",
    "\n"
   ]
  },
  {
   "cell_type": "markdown",
   "id": "1954b6fe",
   "metadata": {},
   "source": [
    "# Q12 -> describe a scenario where tuple is preffered over list ?"
   ]
  },
  {
   "cell_type": "markdown",
   "id": "0ae8f857",
   "metadata": {},
   "source": [
    "A tuple is preferred over a list when you want to store data that should not change throughout the program's execution. Since tuples are immutable (cannot be modified after creation), they ensure that the data remains constant and protected from accidental changes.\n",
    "\n",
    "**Example scenario:**\n",
    "If you are storing the fixed coordinates of a location (latitude, longitude) for a map application, using a tuple is ideal because these values should not be altered once defined:\n"
   ]
  },
  {
   "cell_type": "markdown",
   "id": "5759e819",
   "metadata": {},
   "source": [
    "# Q13 -> how sets handle duplicate value in python "
   ]
  },
  {
   "cell_type": "markdown",
   "id": "aa962b80",
   "metadata": {},
   "source": [
    "In Python, **sets automatically remove duplicate values** because they are implemented as an unordered collection of unique elements.\n",
    "\n",
    "When you try to add a duplicate element to a set, Python ignores it and keeps only one copy.\n",
    "\n",
    "**Key point:** Sets internally use **hashing** to check uniqueness, so duplicates are filtered out automatically.\n"
   ]
  },
  {
   "cell_type": "markdown",
   "id": "1344d96a",
   "metadata": {},
   "source": [
    "# Q14 -> how dose 'in' keyword work diff in list and dict ?"
   ]
  },
  {
   "cell_type": "markdown",
   "id": "6b899f48",
   "metadata": {},
   "source": [
    "The **`in`** keyword works differently for **lists** and **dictionaries** in Python because they check for membership in different ways.\n",
    "\n",
    "\n",
    "### **1. In Lists**\n",
    "\n",
    "* Checks **if a value exists** in the list.\n",
    "* It searches **element by element** until it finds a match (linear search → O(n) time complexity).\n",
    "\n",
    "### **2. In Dictionaries**\n",
    "\n",
    "* Checks **if a key exists** in the dictionary, **not the value**.\n",
    "* Uses **hash table lookup** (average O(1) time complexity).\n",
    " **Key Difference:**\n",
    "\n",
    "* **List →** Membership check is **value-based**.\n",
    "* **Dict →** Membership check is **key-based** (unless you explicitly check `value in my_dict.values()`).\n",
    "\n"
   ]
  },
  {
   "cell_type": "markdown",
   "id": "d21480c4",
   "metadata": {},
   "source": [
    "# Q15 can you modify elements of touple ? explain why and why not ?"
   ]
  },
  {
   "cell_type": "markdown",
   "id": "093bc8e0",
   "metadata": {},
   "source": [
    "No — you cannot modify the elements of a tuple in Python because tuples are immutable.\n",
    "\n",
    "Why you can’t modify a tuple\n",
    "When you create a tuple, Python stores its elements in a fixed memory structure.\n",
    "Its immutability means:\n",
    "You can’t change, add, or remove elements after creation.\n",
    "Trying to do so raises a TypeError."
   ]
  },
  {
   "cell_type": "markdown",
   "id": "c51f2751",
   "metadata": {},
   "source": [
    "# Q16 → What is a nested dictionary? Give an example for it?\n"
   ]
  },
  {
   "cell_type": "markdown",
   "id": "a0db6ae3",
   "metadata": {},
   "source": [
    "\n",
    "A **nested dictionary** in Python is a dictionary where **values** themselves can be dictionaries.\n",
    "It allows you to store data in a **hierarchical** or **multi-level** structure, making it useful for representing complex relationships like JSON data, configurations, or records with multiple attributes.\n",
    "\n",
    "**Example:**\n",
    "\n",
    "```python\n",
    "# Example of a nested dictionary\n",
    "student_data = {\n",
    "    \"student1\": {\n",
    "        \"name\": \"Alice\",\n",
    "        \"age\": 21,\n",
    "        \"marks\": {\n",
    "            \"math\": 88,\n",
    "            \"science\": 92\n",
    "        }\n",
    "    },\n",
    "    \"student2\": {\n",
    "        \"name\": \"Bob\",\n",
    "        \"age\": 22,\n",
    "        \"marks\": {\n",
    "            \"math\": 75,\n",
    "            \"science\": 85\n",
    "        }\n",
    "    }\n",
    "}\n",
    "\n",
    "# Accessing nested dictionary values\n",
    "print(student_data[\"student1\"][\"name\"])       # Output: Alice\n",
    "print(student_data[\"student1\"][\"marks\"][\"math\"])  # Output: 88\n",
    "```\n",
    "\n"
   ]
  },
  {
   "cell_type": "markdown",
   "id": "780e7a67",
   "metadata": {},
   "source": [
    "# Q17 describe the time complexity of accessing elements in a dictionary ?"
   ]
  },
  {
   "cell_type": "markdown",
   "id": "bb1996f4",
   "metadata": {},
   "source": [
    "In Python, a dictionary is implemented as a hash table.\n",
    "When you access an element using its key (e.g., my_dict[key]):\n",
    "\n",
    "Average case: O(1) (constant time)\n",
    "Python computes the hash of the key.\n",
    "Uses that hash to find the index in the hash table.\n",
    "Directly retrieves the value without searching the whole dictionary."
   ]
  },
  {
   "cell_type": "markdown",
   "id": "470ffecb",
   "metadata": {},
   "source": [
    "# Q18 - > in what situation list are preffered over dict ?"
   ]
  },
  {
   "cell_type": "markdown",
   "id": "74c5d622",
   "metadata": {},
   "source": [
    "Lists are preferred over dictionaries when:\n",
    "\n",
    "Order matters\n",
    "Lists preserve insertion order and allow you to access elements by their index.\n",
    "Example: storing a sequence of steps in a process.\n",
    "You don’t need key-value mapping\n",
    "If you just have a collection of values without unique keys, a list is simpler.\n",
    "You want to store duplicate values\n",
    "Lists allow duplicate elements, but dictionary keys must be unique.\n",
    "Memory efficiency\n",
    "Lists generally take less memory than dictionaries for the same number of elements, because dictionaries store hashes and keys in addition to values.\n",
    "Sequential operations\n",
    "Lists are great when you often need to iterate over elements in order or perform operations like sorting, slicing, or reversing."
   ]
  },
  {
   "cell_type": "markdown",
   "id": "582dd2f9",
   "metadata": {},
   "source": [
    "# Q19 - > why are dict considered unordered and how dose that effect data retreval ?\n"
   ]
  },
  {
   "cell_type": "markdown",
   "id": "f44d3601",
   "metadata": {},
   "source": [
    "Dictionaries are “unordered” because their design doesn’t depend on order for access — they use hash-based key lookups.\n",
    "This means you can retrieve values very quickly by key, but you can’t fetch them by a numeric index like in a list.\n",
    "\n"
   ]
  },
  {
   "cell_type": "markdown",
   "id": "004018d7",
   "metadata": {},
   "source": [
    "# Q20 -> explain diff bn list and dict in terms of data retreval "
   ]
  },
  {
   "cell_type": "markdown",
   "id": "0bf4a0f3",
   "metadata": {},
   "source": [
    "\n",
    "### **1. List**\n",
    "\n",
    "* **Access method:** By **index** (position in sequence).\n",
    "* **Time complexity:** O(1) for direct index access (e.g., `my_list[3]`), but **O(n)** if you have to **search by value** (e.g., `\"apple\" in my_list`).\n",
    "* **Use case:** Best when you care about the **order** of items and you mainly retrieve by their position.\n",
    "\n",
    "\n",
    "### **2. Dictionary**\n",
    "\n",
    "* **Access method:** By **key** (label for value).\n",
    "* **Time complexity:** O(1) on average for key lookups (e.g., `my_dict[\"name\"]`), thanks to hashing.\n",
    "* **Use case:** Best when you care about **fast lookups** by a meaningful key, not by position.\n",
    "\n"
   ]
  },
  {
   "cell_type": "markdown",
   "id": "6204dc4f",
   "metadata": {},
   "source": [
    "# PRACTICAL QUESTIONS"
   ]
  },
  {
   "cell_type": "code",
   "execution_count": 6,
   "id": "bc1e12e7",
   "metadata": {},
   "outputs": [
    {
     "name": "stdout",
     "output_type": "stream",
     "text": [
      "siddhant\n"
     ]
    }
   ],
   "source": [
    "#1 WAP to create a string and print it .\n",
    "\n",
    "name = 'siddhant'\n",
    "print(name)"
   ]
  },
  {
   "cell_type": "code",
   "execution_count": 7,
   "id": "5779ecb5",
   "metadata": {},
   "outputs": [
    {
     "name": "stdout",
     "output_type": "stream",
     "text": [
      "lengh of sting is : 11\n"
     ]
    }
   ],
   "source": [
    "#2 WAP to calulate the len of sting 'Hello world'\n",
    "\n",
    "str = 'Hello World'\n",
    "print('lengh of sting is :',len(str) )"
   ]
  },
  {
   "cell_type": "code",
   "execution_count": 9,
   "id": "997cfc4f",
   "metadata": {},
   "outputs": [
    {
     "name": "stdout",
     "output_type": "stream",
     "text": [
      "sliced string is :  hon programing\n"
     ]
    }
   ],
   "source": [
    "#3 WAP to slice first 3 char of sting 'Python programing'\n",
    "\n",
    "str = 'Python programing'\n",
    "print('sliced string is : ',str[3:])"
   ]
  },
  {
   "cell_type": "code",
   "execution_count": 12,
   "id": "2bb7485f",
   "metadata": {},
   "outputs": [
    {
     "name": "stdout",
     "output_type": "stream",
     "text": [
      "string in uppercase :  HELLO\n"
     ]
    }
   ],
   "source": [
    "#4 WAP to convert 'hello' to upper case\n",
    "str = 'hello'\n",
    "print('string in uppercase : ',str.upper())"
   ]
  },
  {
   "cell_type": "code",
   "execution_count": 14,
   "id": "1449c806",
   "metadata": {},
   "outputs": [
    {
     "name": "stdout",
     "output_type": "stream",
     "text": [
      "final string after edit: i love apple\n"
     ]
    }
   ],
   "source": [
    "#5 WAP to replace 'apple' to 'orange' in string 'i love orange'\n",
    "\n",
    "text = 'i love orange'\n",
    "new_text = text.replace('orange','apple')\n",
    "print('final string after edit:', new_text)\n"
   ]
  },
  {
   "cell_type": "code",
   "execution_count": 16,
   "id": "72c5f4a6",
   "metadata": {},
   "outputs": [
    {
     "name": "stdout",
     "output_type": "stream",
     "text": [
      "[1, 2, 3, 4, 5]\n"
     ]
    }
   ],
   "source": [
    "# 6 WAP to create a list with val 1-5 and print it\n",
    "\n",
    "val_list = list(range(1,6))\n",
    "print(val_list)"
   ]
  },
  {
   "cell_type": "code",
   "execution_count": 21,
   "id": "c7e218ba",
   "metadata": {},
   "outputs": [
    {
     "name": "stdout",
     "output_type": "stream",
     "text": [
      "list after append :  [1, 2, 3, 4, 10]\n"
     ]
    }
   ],
   "source": [
    "\n",
    "#7 WAP to append num 10 in list [1,2,3,4]\n",
    "old_list = [1,2,3,4]\n",
    "old_list.append(10)\n",
    "print('list after append : ', old_list)"
   ]
  },
  {
   "cell_type": "code",
   "execution_count": 22,
   "id": "89029c8d",
   "metadata": {},
   "outputs": [
    {
     "name": "stdout",
     "output_type": "stream",
     "text": [
      "List after removing : [1, 2, 4, 5]\n"
     ]
    }
   ],
   "source": [
    "#8 WAP to remove num 3 from list [1,2,3,4,5]\n",
    "old_list = [1,2,3,4,5]\n",
    "old_list.remove(3)\n",
    "print('List after removing :',old_list)\n"
   ]
  },
  {
   "cell_type": "code",
   "execution_count": 24,
   "id": "ac09cda5",
   "metadata": {},
   "outputs": [
    {
     "name": "stdout",
     "output_type": "stream",
     "text": [
      "second element in this list is :  b\n"
     ]
    }
   ],
   "source": [
    "#9 WAP to access second element in list ['a','b','c','d']\n",
    "old_list = ['a','b','c','d']\n",
    "print('second element in this list is : ',old_list[1])"
   ]
  },
  {
   "cell_type": "code",
   "execution_count": null,
   "id": "14343286",
   "metadata": {},
   "outputs": [
    {
     "name": "stdout",
     "output_type": "stream",
     "text": [
      "[50, 40, 30, 20, 10]\n"
     ]
    }
   ],
   "source": [
    "# 10 WAP to reverse this list [10,20,30,40,50]\n",
    "old_list=[10,20,30,40,50]\n",
    "old_list.reverse()\n",
    "# print(old_list)\n"
   ]
  },
  {
   "cell_type": "code",
   "execution_count": 29,
   "id": "ff3c83f9",
   "metadata": {},
   "outputs": [
    {
     "name": "stdout",
     "output_type": "stream",
     "text": [
      "tuple is :  (100, 200, 300)\n"
     ]
    }
   ],
   "source": [
    "#11 WAP to create tuple with ele 100,200,300 and print it .\n",
    "\n",
    "tup = (100,200,300)\n",
    "print('tuple is : ', tup)"
   ]
  },
  {
   "cell_type": "code",
   "execution_count": 30,
   "id": "949d3868",
   "metadata": {},
   "outputs": [
    {
     "name": "stdout",
     "output_type": "stream",
     "text": [
      "secont last element of tuple is :  blue\n"
     ]
    }
   ],
   "source": [
    "# 12 WAP to print sec last ele of tuple ('red','green','blue','yellow')\n",
    "color = ('red','green','blue','yellow') \n",
    "print('secont last element of tuple is : ' ,color[len(color)-2])"
   ]
  },
  {
   "cell_type": "code",
   "execution_count": 40,
   "id": "6ec86a51",
   "metadata": {},
   "outputs": [
    {
     "name": "stdout",
     "output_type": "stream",
     "text": [
      "5\n"
     ]
    }
   ],
   "source": [
    "#13 WAP to find min of tuple (10,20,5,15)\n",
    "num = (10,20,5,15)\n",
    "m = float('inf')\n",
    "for i in num :\n",
    "    if(i < m):\n",
    "        m = i\n",
    "print(m)\n",
    "# print(min(num))"
   ]
  },
  {
   "cell_type": "code",
   "execution_count": 41,
   "id": "5b8d2fb6",
   "metadata": {},
   "outputs": [
    {
     "name": "stdout",
     "output_type": "stream",
     "text": [
      "index of cat in tuple :  1\n"
     ]
    }
   ],
   "source": [
    "\n",
    "#14 WAP to find index of 'cat ' in ( 'dog', 'cat', 'rabbit')\n",
    "animal = ( 'dog', 'cat', 'rabbit')\n",
    "print('index of cat in tuple : ',animal.index('cat'))"
   ]
  },
  {
   "cell_type": "code",
   "execution_count": 45,
   "id": "bbf1a740",
   "metadata": {},
   "outputs": [
    {
     "name": "stdout",
     "output_type": "stream",
     "text": [
      "Kiwi is not present in this tuple\n"
     ]
    }
   ],
   "source": [
    "# 15 WAP to create a tuple of diff fruits and check if 'Kiwi ' is in it ?\n",
    "\n",
    "fruit = ('apple','mango','oranage')\n",
    "try : \n",
    "    print('kiwi is present at index : ',fruit.index('kiwi') )\n",
    "except:\n",
    "        print('Kiwi is not present in this tuple')    "
   ]
  },
  {
   "cell_type": "code",
   "execution_count": 46,
   "id": "efa4a11a",
   "metadata": {},
   "outputs": [
    {
     "name": "stdout",
     "output_type": "stream",
     "text": [
      "set is having value : {'a', 'b', 'c'}\n"
     ]
    }
   ],
   "source": [
    "# 16 WAP to print set having elemet {'a','b','c'}\n",
    "new_set = {'a','b','c'}\n",
    "print('set is having value :',new_set)"
   ]
  },
  {
   "cell_type": "code",
   "execution_count": 48,
   "id": "ab40ab59",
   "metadata": {},
   "outputs": [
    {
     "name": "stdout",
     "output_type": "stream",
     "text": [
      "cleared the set :  set()\n"
     ]
    }
   ],
   "source": [
    "#17 WAP to clear all the element from the set {1,2,3,4}\n",
    "nums =  {1,2,3,4}\n",
    "nums.clear()\n",
    "print('cleared the set : ' , nums)"
   ]
  },
  {
   "cell_type": "code",
   "execution_count": 51,
   "id": "8d653d07",
   "metadata": {},
   "outputs": [
    {
     "name": "stdout",
     "output_type": "stream",
     "text": [
      "{1, 2, 3}\n"
     ]
    }
   ],
   "source": [
    "# 18 WAP to remove 4 from set  {1,2,3,4} \n",
    "nums =  {1,2,3,4}\n",
    "nums.remove(4)\n",
    "print(nums)"
   ]
  },
  {
   "cell_type": "code",
   "execution_count": 52,
   "id": "a14439e7",
   "metadata": {},
   "outputs": [
    {
     "name": "stdout",
     "output_type": "stream",
     "text": [
      "union of 2 sets are :  {1, 2, 3, 4}\n"
     ]
    }
   ],
   "source": [
    "# 19 WAP to find union of 2 sets\n",
    "set1 = { 1,2,3}\n",
    "set2 = { 2,3,4}\n",
    "\n",
    "print('union of 2 sets are : ' , set1 | set2 )"
   ]
  },
  {
   "cell_type": "code",
   "execution_count": 54,
   "id": "ebb24679",
   "metadata": {},
   "outputs": [
    {
     "name": "stdout",
     "output_type": "stream",
     "text": [
      "union of 2 sets are :  {2, 3}\n"
     ]
    }
   ],
   "source": [
    "# 20 WAP to find intersection of 2 sets\n",
    "set1 = { 1,2,3}\n",
    "set2 = { 2,3,4}\n",
    "\n",
    "print('union of 2 sets are : ' , set1 & set2 )"
   ]
  },
  {
   "cell_type": "code",
   "execution_count": 57,
   "id": "8c8f52e2",
   "metadata": {},
   "outputs": [
    {
     "name": "stdout",
     "output_type": "stream",
     "text": [
      "{'name': 'siddhant ', 'age': 23, 'city': 'Ho Chi Minh City'}\n"
     ]
    }
   ],
   "source": [
    "#21 WAP to create a dict with keys name,age,city and print it \n",
    "card = {\n",
    "    'name' : 'siddhant ',\n",
    "    'age' : 23,\n",
    "    'city' : 'Ho Chi Minh City'\n",
    "}\n",
    "\n",
    "print(card)"
   ]
  },
  {
   "cell_type": "code",
   "execution_count": 61,
   "id": "fc8721a3",
   "metadata": {},
   "outputs": [
    {
     "name": "stdout",
     "output_type": "stream",
     "text": [
      "{'name': 'jhon', 'age': 25, 'country': 'USA'}\n"
     ]
    }
   ],
   "source": [
    "#22 WAP to add new key country:USA  to dict { name : jhon , age : 25 }\n",
    "name_dict = {\n",
    "    'name' : 'jhon',\n",
    "    'age' : 25\n",
    "} \n",
    "name_dict['country'] = 'USA'\n",
    "# name_dict.update({'country':'india'})\n",
    "print(name_dict)"
   ]
  },
  {
   "cell_type": "code",
   "execution_count": 62,
   "id": "c2b74829",
   "metadata": {},
   "outputs": [
    {
     "name": "stdout",
     "output_type": "stream",
     "text": [
      "value of element having key : \"name\" is ->  jhon\n"
     ]
    }
   ],
   "source": [
    "#23 WAP to access value associated with key name in { name : jhon , age : 25 }\n",
    "name_dict = {\n",
    "    'name' : 'jhon',\n",
    "    'age' : 25\n",
    "} \n",
    "\n",
    "print('value of element having key : \"name\" is -> ',name_dict['name'])"
   ]
  },
  {
   "cell_type": "code",
   "execution_count": 63,
   "id": "c975019c",
   "metadata": {},
   "outputs": [
    {
     "name": "stdout",
     "output_type": "stream",
     "text": [
      "updated dict :  {'name': 'jhon', 'city': 'New York'}\n"
     ]
    }
   ],
   "source": [
    "# 24 WAP to remove key age from disct name_dict = {\n",
    "#     'name' : 'jhon',\n",
    "#     'age' : 25,\n",
    "#     'city' : 'New York'\n",
    "# } \n",
    "\n",
    "name_dict = {\n",
    "    'name' : 'jhon',\n",
    "    'age' : 25,\n",
    "    'city' : 'New York'\n",
    "} \n",
    "try:\n",
    "    del name_dict['age']\n",
    "except:\n",
    "    print('key is not present')\n",
    "print('updated dict : ' , name_dict)        "
   ]
  },
  {
   "cell_type": "code",
   "execution_count": 66,
   "id": "f259cf74",
   "metadata": {},
   "outputs": [
    {
     "name": "stdout",
     "output_type": "stream",
     "text": [
      "New York\n"
     ]
    }
   ],
   "source": [
    "# 25 WAP to find key ciity in dict { name : jhon , age : 25 }\n",
    "name_dict = {\n",
    "    'name' : 'jhon',\n",
    "    'age' : 25,\n",
    "    'city' : 'New York'\n",
    "} \n",
    "\n",
    "try:\n",
    "    print(name_dict['city'])\n",
    "except:\n",
    "    print('key is not present')\n",
    "    \n",
    "        "
   ]
  },
  {
   "cell_type": "code",
   "execution_count": 67,
   "id": "90db5269",
   "metadata": {},
   "outputs": [
    {
     "name": "stdout",
     "output_type": "stream",
     "text": [
      " list - >  [1, 2, 3, 4]\n",
      "tuple - >  (1, 2, 3, 4)\n",
      "dict - >  {'name': 'jhon', 'age': 25, 'city': 'New York'}\n"
     ]
    }
   ],
   "source": [
    "#26 WAP to create list , tuple , and dict and print them\n",
    "check_list = [1,2,3,4]\n",
    "check_tuple = (1,2,3,4)\n",
    "chcek_dict =  {\n",
    "    'name' : 'jhon',\n",
    "    'age' : 25,\n",
    "    'city' : 'New York'\n",
    "} \n",
    "\n",
    "print(' list - > ',check_list)\n",
    "print('tuple - > ',check_tuple)\n",
    "print('dict - > ',chcek_dict)"
   ]
  },
  {
   "cell_type": "code",
   "execution_count": 69,
   "id": "13d80c72",
   "metadata": {},
   "outputs": [
    {
     "name": "stdout",
     "output_type": "stream",
     "text": [
      "random list before sorting : [44, 35, 94, 89, 86]\n",
      "random list after sorting : [35, 44, 86, 89, 94]\n"
     ]
    }
   ],
   "source": [
    "#27 WAP to create a list of random 5 num bn 1-100, and sort it in asc order and print the result sorted \n",
    "import random\n",
    "random_list = []\n",
    "for i in range(5):\n",
    "    random_list.append(random.randint(1, 100))\n",
    "print('random list before sorting :',random_list)    \n",
    "random_list.sort()\n",
    "print('random list after sorting :',random_list)    "
   ]
  },
  {
   "cell_type": "code",
   "execution_count": 1,
   "id": "77d0485f",
   "metadata": {},
   "outputs": [
    {
     "name": "stdout",
     "output_type": "stream",
     "text": [
      "elemt at 3rd index is :  c\n"
     ]
    }
   ],
   "source": [
    "\n",
    "# 28 WAP to create a list of strings and print the elemt at third index\n",
    "str_list = []\n",
    "for i in range(5):\n",
    "    str_list.append(input(f'enter {i+1} string'))\n",
    "print('elemt at 3rd index is : ',str_list[2])    "
   ]
  },
  {
   "cell_type": "code",
   "execution_count": 4,
   "id": "fc4a4ad4",
   "metadata": {},
   "outputs": [
    {
     "name": "stdout",
     "output_type": "stream",
     "text": [
      "{'a': 1, 'b': 2, 'c': 3, 'd': 4}\n"
     ]
    }
   ],
   "source": [
    "#29 WAP to combine 2 dict and print it in one\n",
    "# Example dictionaries\n",
    "dict1 = {\"a\": 1, \"b\": 2}\n",
    "dict2 = {\"c\": 3, \"d\": 4}\n",
    "dict1.update(dict2)\n",
    "print(dict1)\n"
   ]
  },
  {
   "cell_type": "code",
   "execution_count": 3,
   "id": "8f7718eb",
   "metadata": {},
   "outputs": [
    {
     "name": "stdout",
     "output_type": "stream",
     "text": [
      "new set is :  {'a', 'b'}\n",
      "<class 'set'>\n"
     ]
    }
   ],
   "source": [
    "#30 WAP to convert list of sting to set\n",
    "\n",
    "l = ['a','b','b']\n",
    "x = set(l)\n",
    "print('new set is : ',x)\n",
    "print(type(x))"
   ]
  },
  {
   "cell_type": "code",
   "execution_count": null,
   "id": "0cae4160",
   "metadata": {},
   "outputs": [],
   "source": []
  }
 ],
 "metadata": {
  "kernelspec": {
   "display_name": "Python 3",
   "language": "python",
   "name": "python3"
  },
  "language_info": {
   "codemirror_mode": {
    "name": "ipython",
    "version": 3
   },
   "file_extension": ".py",
   "mimetype": "text/x-python",
   "name": "python",
   "nbconvert_exporter": "python",
   "pygments_lexer": "ipython3",
   "version": "3.9.6"
  }
 },
 "nbformat": 4,
 "nbformat_minor": 5
}
