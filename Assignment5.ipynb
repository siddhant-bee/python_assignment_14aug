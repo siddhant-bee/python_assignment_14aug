{
  "cells": [
    {
      "cell_type": "markdown",
      "metadata": {
        "id": "HUBldQx_RORo"
      },
      "source": [
        "#Files, exceptional handling, logging and memory management Questions"
      ]
    },
    {
      "cell_type": "markdown",
      "metadata": {
        "id": "eimgJJCwPJs9"
      },
      "source": [
        "## THEORY QUESTIONS"
      ]
    },
    {
      "cell_type": "markdown",
      "metadata": {
        "id": "k3vfx2ubPZXy"
      },
      "source": [
        "1. What is the difference between interpreted and compiled languages\n",
        "\n",
        "Ans1. compiled language > Source code is translated entirely into machine code by a compiler before it is run. The resulting machine code is then run directly by the system.Examples: C, C++.\n",
        "\n",
        "interpreted language > Source code is read and executed line-by-line by an interpreter at runtime.No separate machine code file is created; the interpreter runs the code directly.Examples: Python, JavaScript.\n",
        "\n",
        "\n",
        "2. What is exception handling in Python\n",
        "\n",
        "Ans2. Exception handling in Python is a way to gracefully handle errors that occur during the execution of a program, so your program doesn't crash unexpectedly.\n",
        "\n",
        "3.What is the purpose of the finally block in exception handling?\n",
        "\n",
        "Ans3. The finally block is used to ensure that certain code always runs, no matter what happens — whether an exception was raised or not.\n",
        "~~~\n",
        "try:\n",
        "    x = int(input(\"Enter a number: \"))\n",
        "    y = 10 / x\n",
        "except ValueError:\n",
        "    print(\"Invalid input: not a number.\")\n",
        "finally:\n",
        "print(\"done\")\n",
        "~~~\n",
        "4. What is logging in Python?\n",
        "\n",
        "Ans4. Logging in Python is a way to track events that happen while your program runs. It helps you debug, monitor, and understand your program’s behavior without using print statements.Logging is a better alternative to print() for tracking program events\n",
        "~~~\n",
        "import logging\n",
        "logging.basicConfig(filename=\"xyx.txt\",level=logging.INFO)\n",
        "~~~\n",
        "\n",
        "5. What is the significance of the __del__ method in Python?\n",
        "\n",
        "Ans5. The __del__  method is a special method in Python called a destructor. It is automatically invoked when an object is about to be destroyed — i.e., when it is garbage collected.\n",
        "\n",
        "6. What is the difference between import and from ... import in Python?\n",
        "\n",
        "Ans6. Both import and from ... import are used to bring external modules or functions into your Python script, but they work differently.\n",
        "\n",
        "Use import when you want the whole module and clear, prefixed access.\n",
        "Use from ... import when you only need specific parts and want cleaner code.\n",
        "~~~\n",
        " from abc import abstractclassmethod\n",
        "~~~\n",
        "\n",
        "7. How can you handle multiple exceptions in Python?\n",
        "\n",
        "Ans7. In Python, you can handle multiple exceptions using multiple except blocks, or by grouping exceptions in a single block.\n",
        "\n",
        "~~~\n",
        "try:\n",
        "    x = int(input(\"Enter a number: \"))\n",
        "    y = 10 / x\n",
        "except ValueError:\n",
        "    print(\"Invalid input: not a number.\")\n",
        "except ZeroDivisionError:\n",
        "    print(\"You can't divide by zero.\")\n",
        "~~~\n",
        "\n",
        "8. What is the purpose of the with statement when handling files in Python?\n",
        "\n",
        "Ans8. The with statement in Python is used to simplify file handling by automatically opening and closing files — even if an error occurs.\n",
        "~~~\n",
        "with open(\"file.txt\",\"w\")as f:\n",
        "   f.write()\n",
        "~~~\n",
        "9. What is the difference between multithreading and multiprocessing?\n",
        "\n",
        "Ans9.\n",
        "> multithreading: Runs multiple threads (smaller tasks) within the same process\n",
        "Threads share the same memory space.\n",
        "~~~\n",
        "import threading\n",
        "\n",
        "def task():\n",
        "    print(\"Run\")\n",
        "\n",
        "t = threading.Thread(target=task)\n",
        "t.start()\n",
        "~~~\n",
        "> multiprocessing: Runs multiple processes, each with its own memory\n",
        "Bypasses the GIL, so tasks run in parallel.\n",
        "~~~\n",
        "import multiprocessing\n",
        "\n",
        "def task():\n",
        "    print(\"Run\")\n",
        "\n",
        "p = multiprocessing.Process(target=task)\n",
        "p.start()\n",
        "~~~\n",
        "\n",
        "10. What are the advantages of using logging in a program?\n",
        "\n",
        "Ans10.\n",
        "1. Helps Debugging:\n",
        "Logging records detailed information about what the program is doing, making it easier to find and fix problems.\n",
        "\n",
        "2. Keeps a Permanent Record:\n",
        "Logs can be saved to files, so you can review program activity even after it has finished running.\n",
        "\n",
        "3. Provides Different Levels of Messages:\n",
        "You can categorize logs by importance (e.g., INFO, WARNING, ERROR), helping you focus on what matters most.\n",
        "\n",
        "4. Better than Print Statements:\n",
        "Unlike print, logging can be turned on or off and can be configured to output to different places (files, consoles, etc.).\n",
        "\n",
        "11. What is memory management in Python?\n",
        "\n",
        "Ans11. Memory management in Python refers to how the language allocates, uses, and frees up memory while your program runs.\n",
        "\n",
        "12. What are the basic steps involved in exception handling in Python?\n",
        "\n",
        "Ans12.Exception handling in Python is about managing errors so your program doesn’t crash unexpectedly:\n",
        "\n",
        ">try: Put the code that might cause an error inside a try block.\n",
        "~~~\n",
        "try:\n",
        "  print(10/0)\n",
        "~~~\n",
        ">Catch Exceptions with except: Each except handles a specific type of error\n",
        "~~~\n",
        "except Exception as e:\n",
        "      print(\"error is\",e)\n",
        "~~~\n",
        "> finally: Use finally Block\n",
        "~~~\n",
        "finally:\n",
        "  print(\"this will run the code\")\n",
        "~~~\n",
        "all together:\n",
        "~~~\n",
        "try:\n",
        "  print(10/0)\n",
        "except ZeroDivisionError as e:\n",
        "  print(\"error is:\",e)\n",
        "finally:\n",
        "  print(\"this will run the code\")\n",
        "~~~\n",
        "\n",
        "13. Why is memory management important in Python?\n",
        "\n",
        "Ans13. Memory management is important in Python because it helps ensure that your programs run efficiently and reliably.Memory management in Python is crucial because it keeps your program fast, stable, and resource-friendly by automatically managing how memory is used and freed.\n",
        "\n",
        "14. What is the role of try and except in exception handling?\n",
        "\n",
        "Ans14.\n",
        ">try: Put the code that might cause an error inside a try block.\n",
        ">Catch Exceptions with except: Each except handles a specific type of error\n",
        "~~~\n",
        "try:\n",
        "  print(10/0)\n",
        "except ZeroDivisionError as e:\n",
        "  print(\"error is:\",e)\n",
        "finally:\n",
        "  print(\"this will run the code\")\n",
        "~~~\n",
        "\n",
        "15. How does Python's garbage collection system work?\n",
        "\n",
        "Ans15. Python’s garbage collection (GC) system automatically manages memory by removing objects that are no longer needed so that memory can be reused.\n",
        "\n",
        "16. What is the purpose of the else block in exception handling?\n",
        "\n",
        "Ans16. The else block in Python exception handling is used to run code only if no exceptions were raised in the try block.\n",
        "~~~\n",
        "try:\n",
        "    result = 10 / 2\n",
        "except ZeroDivisionError:\n",
        "    print(\"Cannot divide by zero.\")\n",
        "else:\n",
        "    print(\"Division successful! Result is\", result)\n",
        "~~~\n",
        "\n",
        "17. What are the common logging levels in Python?\n",
        "\n",
        "Ans17.Python’s logging module provides different logging levels to indicate the\n",
        "mportance of messages.\n",
        "\n",
        "> DEBUG: For detailed troubleshooting info\n",
        "\n",
        ">INFO: General operational messages\n",
        "\n",
        ">WARNING: Alerts about potential issues\n",
        "\n",
        ">ERROR: Serious problems that affect functionality\n",
        "\n",
        ">CRITICAL: Very severe errors causing program failure\n",
        "\n",
        "18. What is the difference between os.fork() and multiprocessing in Python\n",
        "\n",
        "Ans18.\n",
        "> os.fork():A low-level function available on Unix/Linux systems only.\n",
        "It creates a child process by duplicating the current process.\n",
        "Both parent and child processes continue running from the same point in the code.\n",
        "> multiprocessing Module:A high-level Python module for creating and managing separate processes.Works on all platforms (Windows, macOS, Linux).\n",
        "Provides easy-to-use classes like Process, Queue, Pool, etc.\n",
        "\n",
        "19.  What is the importance of closing a file in Python?\n",
        "\n",
        "Ans19. Closing a file in Python is important to ensure that your program uses system resources properly and does not lose data.\n",
        "\n",
        "20. What is the difference between file.read() and file.readline() in Python0\n",
        "\n",
        "Ans20. file.read():in this we can read the whole file in one go.\n",
        "~~~\n",
        "with open(\"file.txt\",\"r\")as f:\n",
        "   r=f.read()\n",
        "   print(r)\n",
        "~~~\n",
        "\n",
        "file.readline: in this we can read first line of our file.\n",
        "~~~\n",
        "with open(\"file.txt\",\"r\")as f:\n",
        "   r=f.readline()\n",
        "   print(r)\n",
        "~~~\n",
        "\n",
        "21. What is the logging module in Python used for\n",
        "\n",
        "Ans21.The logging module in Python is used to record messages that describe events happening in your program. It helps you track errors, monitor performance, and understand how your code is running — without using print() statements.\n",
        "\n",
        "22. What is the os module in Python used for in file handling?\n",
        "\n",
        "Ans22. The os module is used to interact with the operating system. In file handling, it helps with:\n",
        "\n",
        ">Checking if files or directories exist: os.path.exists()\n",
        "\n",
        ">Creating directories: os.mkdir(), os.makedirs()\n",
        "\n",
        ">Listing contents of directories: os.listdir()\n",
        "\n",
        ">Deleting files or directories: os.remove(), os.rmdir()\n",
        "\n",
        ">Renaming or moving files: os.rename()\n",
        "\n",
        ">setting the current working directory: os.getcwd(), os.chdir()\n",
        "\n",
        ">Building platform-independent file paths: os.path.join()\n",
        "\n",
        "23. What are the challenges associated with memory management in Python?\n",
        "\n",
        "Ans23. Poor memory management can lead to various issues such as memory leaks, fragmentation, excessive paging, and crashes, which indirectly degrade system performance and stability.\n",
        "\n",
        "24.  How do you raise an exception manually in Python?\n",
        "\n",
        "Ans24. In Python, we can raise an exception manually using the raise keyword.\n",
        "~~~\n",
        "class MyCustomError(Exception):\n",
        "    pass\n",
        "\n",
        "raise MyCustomError(\"Something custom went wrong\")\n",
        "~~~\n",
        "\n",
        "25. Why is it important to use multithreading in certain applications\n",
        "\n",
        "Ans25.Multithreading is important in certain applications for several reasons:\n",
        "\n",
        "1. Improved Responsiveness: In applications with user interfaces or network operations, multithreading can prevent the application from freezing while waiting for a task to complete. One thread can handle the long-running task while another thread keeps the UI responsive.\n",
        "\n",
        "2. Better Resource Utilization: For I/O-bound tasks (tasks that spend a lot of time waiting for input/output operations, like reading from a file or network), multithreading allows the CPU to switch to another thread while one thread is waiting. This makes better use of available resources.\n",
        "\n",
        "3. Simplified Design for Concurrent Tasks: When an application needs to perform multiple tasks concurrently (like handling multiple client connections in a server), using separate threads for each task can simplify the program's structure and make it easier to manage.\n",
        "\n",
        "4. Parallelism (in some cases): Although Python's Global Interpreter Lock (GIL) limits true parallel execution of CPU-bound tasks in multiple threads on multi-core processors, multithreading can still provide a form of concurrency that is beneficial for I/O-bound operations. In other languages without a GIL, multithreading can achieve true parallelism for CPU-bound tasks\n",
        "\n",
        "\n",
        "\n"
      ]
    },
    {
      "cell_type": "markdown",
      "metadata": {
        "id": "5txSJuq8T_Eh"
      },
      "source": [
        "# PRACTICAL QUESTIONS"
      ]
    },
    {
      "cell_type": "code",
      "execution_count": 1,
      "metadata": {
        "id": "wvX6OdUxXegp"
      },
      "outputs": [],
      "source": [
        "# 1. How can you open a file for writing in Python and write a string to it?\n",
        "with open(\"file.txt\",\"w\") as f:\n",
        "  f.write(\"Hey, my name is Siddhant\")\n",
        "  f.write(\"\\nI am in DS course\")"
      ]
    },
    {
      "cell_type": "code",
      "execution_count": 2,
      "metadata": {
        "colab": {
          "base_uri": "https://localhost:8080/"
        },
        "id": "Ag7aGrPrsqtO",
        "outputId": "b577725a-c56f-4eb3-e6a0-91a17aea2e35"
      },
      "outputs": [
        {
          "name": "stdout",
          "output_type": "stream",
          "text": [
            "Hey, my name is Siddhant\n",
            "I am in DS course\n"
          ]
        }
      ],
      "source": [
        "# 2. Write a Python program to read the contents of a file and print each line?\n",
        "with open(\"file.txt\",\"r\") as f:\n",
        "  print(f.read())"
      ]
    },
    {
      "cell_type": "code",
      "execution_count": null,
      "metadata": {
        "colab": {
          "base_uri": "https://localhost:8080/"
        },
        "id": "FIuXzrcWsq1N",
        "outputId": "7be39960-31f4-45fc-9cd7-8d2b40e0d5a6"
      },
      "outputs": [
        {
          "name": "stdout",
          "output_type": "stream",
          "text": [
            "error is: [Errno 2] No such file or directory: 'file_test.txt'\n"
          ]
        }
      ],
      "source": [
        "#3. How would you handle a case where the file doesn't exist while trying to open it for reading?\n",
        "try:\n",
        "  with open(\"file_test.txt\",\"r\") as f:\n",
        "    r = f.read()\n",
        "    print(r)\n",
        "except FileNotFoundError as e:\n",
        "  print(\"error is:\",e)"
      ]
    },
    {
      "cell_type": "code",
      "execution_count": 3,
      "metadata": {
        "colab": {
          "base_uri": "https://localhost:8080/"
        },
        "id": "ymtyW9S7srGk",
        "outputId": "400dfeb7-b4bb-4959-94f8-288658427388"
      },
      "outputs": [
        {
          "name": "stdout",
          "output_type": "stream",
          "text": [
            "Hey, my name is Siddhant\n",
            "I am in DS course\n",
            "Hey, my name is Siddhant\n",
            "I am in DS course\n"
          ]
        }
      ],
      "source": [
        "#4. Write a Python script that reads from one file and writes its content to another file?\n",
        "with open(\"file.txt\",\"r\")as f:\n",
        "  print(f.read())\n",
        "\n",
        "with open(\"file.txt\",\"r\") as firstfile:\n",
        "  with open(\"second_file.txt\",\"a\") as secondfile:\n",
        "    for line in firstfile:\n",
        "      secondfile.write(line)\n",
        "\n",
        "with open(\"second_file.txt\",\"r\")as f:\n",
        "  print(f.read())"
      ]
    },
    {
      "cell_type": "code",
      "execution_count": null,
      "metadata": {
        "colab": {
          "base_uri": "https://localhost:8080/"
        },
        "id": "jXCaHPZ9srOv",
        "outputId": "d37e38f6-92c3-41c2-e1e1-f95e3d5e1936"
      },
      "outputs": [
        {
          "name": "stdout",
          "output_type": "stream",
          "text": [
            "error is: division by zero\n"
          ]
        }
      ],
      "source": [
        "#5. How would you catch and handle division by zero error in Python?\n",
        "try:\n",
        "  print(10/0)\n",
        "except ZeroDivisionError as e:\n",
        "  print(\"error is:\",e)"
      ]
    },
    {
      "cell_type": "code",
      "execution_count": null,
      "metadata": {
        "colab": {
          "base_uri": "https://localhost:8080/"
        },
        "id": "iM4na9CcsrXT",
        "outputId": "742e71c3-7c3e-4cc9-d245-0e98d8fb6b92"
      },
      "outputs": [
        {
          "name": "stderr",
          "output_type": "stream",
          "text": [
            "ERROR:root:Division by zero error occurred: division by zero\n"
          ]
        },
        {
          "name": "stdout",
          "output_type": "stream",
          "text": [
            "An error occurred and has been logged.\n"
          ]
        }
      ],
      "source": [
        "#6. Write a Python program that logs an error message to a log file when a division by zero exception occurs?\n",
        "\n",
        "import logging\n",
        "logging.basicConfig(filename='error.log', level=logging.ERROR)\n",
        "\n",
        "try:\n",
        "  result = 10 / 0\n",
        "except ZeroDivisionError as e:\n",
        "  logging.error(\"Division by zero error occurred: %s\", e)\n",
        "  print(\"An error occurred and has been logged.\")"
      ]
    },
    {
      "cell_type": "code",
      "execution_count": null,
      "metadata": {
        "colab": {
          "base_uri": "https://localhost:8080/"
        },
        "id": "C13KI6LRzxqH",
        "outputId": "8555630e-e7d3-443a-fa63-e9b16df6e847"
      },
      "outputs": [
        {
          "name": "stderr",
          "output_type": "stream",
          "text": [
            "ERROR:root:this is error message\n",
            "WARNING:root:this is last warning\n"
          ]
        }
      ],
      "source": [
        "#7. How do you log information at different levels (INFO, ERROR, WARNING) in Python using the logging module?\n",
        "import logging\n",
        "logging.basicConfig(filename=\"test_log.txt\",level=logging.INFO)\n",
        "\n",
        "logging.info(\"this is info message\")\n",
        "logging.error(\"this is error message\")\n",
        "logging.warning(\"this is last warning\")\n",
        "\n",
        "logging.shutdown()\n"
      ]
    },
    {
      "cell_type": "code",
      "execution_count": null,
      "metadata": {
        "colab": {
          "base_uri": "https://localhost:8080/"
        },
        "id": "mAJguZhzzxyz",
        "outputId": "c18f601a-f59c-4423-e43c-e18a524ea9cd"
      },
      "outputs": [
        {
          "name": "stdout",
          "output_type": "stream",
          "text": [
            "error is: [Errno 2] No such file or directory: 'test.txt'\n"
          ]
        }
      ],
      "source": [
        "#8.  Write a program to handle a file opening error using exception handling?\n",
        "try:\n",
        "  with open(\"test.txt\",\"r\") as f:\n",
        "    r = f.read()\n",
        "    print(r)\n",
        "except FileNotFoundError as e:\n",
        "  print(\"error is:\",e)"
      ]
    },
    {
      "cell_type": "code",
      "execution_count": null,
      "metadata": {
        "colab": {
          "base_uri": "https://localhost:8080/"
        },
        "id": "NsIh8nz5zx8W",
        "outputId": "ad790615-8360-4534-8f81-bc0df25ad473"
      },
      "outputs": [
        {
          "name": "stdout",
          "output_type": "stream",
          "text": [
            "['Hey, my name is divya\\n', 'I am in DA course']\n"
          ]
        }
      ],
      "source": [
        "#9. How can you read a file line by line and store its content in a list in Python?\n",
        "with open(\"file.txt\",\"r\")as f:\n",
        "  r=f.readlines()\n",
        "  print(r)"
      ]
    },
    {
      "cell_type": "code",
      "execution_count": null,
      "metadata": {
        "id": "MZucqh4DzyEz"
      },
      "outputs": [],
      "source": [
        "#10.  How can you append data to an existing file in Python?\n",
        "with open(\"file.txt\",\"a\")as f:\n",
        "  f.write(\"\\nmy fees is 20000\")"
      ]
    },
    {
      "cell_type": "code",
      "execution_count": null,
      "metadata": {
        "colab": {
          "base_uri": "https://localhost:8080/"
        },
        "id": "fmw7zOcG3tu9",
        "outputId": "17bc0722-8fbf-466b-8226-3684cbf3b588"
      },
      "outputs": [
        {
          "name": "stdout",
          "output_type": "stream",
          "text": [
            "here there is no key: 'age'\n"
          ]
        }
      ],
      "source": [
        "#11. Write a Python program that uses a try-except block to handle an error when attempting to access a dictionary key that doesn't exist?\n",
        "try:\n",
        " data={\"name\":\"Siddhant\",\"course\":\"DA\"}\n",
        " print(data[\"age\"])\n",
        "except KeyError as e:\n",
        "  print(\"here there is no key:\",e)"
      ]
    },
    {
      "cell_type": "code",
      "execution_count": null,
      "metadata": {
        "colab": {
          "base_uri": "https://localhost:8080/"
        },
        "id": "AG3niecC3t3x",
        "outputId": "42229ef2-5137-42b4-f272-01e79c12e558"
      },
      "outputs": [
        {
          "name": "stdout",
          "output_type": "stream",
          "text": [
            "enter a number:10\n",
            "1.0\n"
          ]
        }
      ],
      "source": [
        "#12. Write a program that demonstrates using multiple except blocks to handle different types of exceptions?\n",
        "try:\n",
        "  x=int(input(\"enter a number:\"))\n",
        "  print(10/x)\n",
        "\n",
        "except ZeroDivisionError as e:\n",
        "  print(\"error is:\",e)\n",
        "except ValueError as e:\n",
        "  print(\"error is:\",e)"
      ]
    },
    {
      "cell_type": "code",
      "execution_count": null,
      "metadata": {
        "colab": {
          "base_uri": "https://localhost:8080/"
        },
        "id": "vebubbI45TFw",
        "outputId": "6d819a11-b42f-4983-d6e0-65ea67086130"
      },
      "outputs": [
        {
          "name": "stdout",
          "output_type": "stream",
          "text": [
            "file exixts:\n",
            "Hey, my name is divya\n",
            "I am in DA course\n",
            "my fees is 20000\n"
          ]
        }
      ],
      "source": [
        "#13.  How would you check if a file exists before attempting to read it in Python?\n",
        "import os\n",
        "if os.path.exists(\"file.txt\"):\n",
        "  print(\"file exixts:\")\n",
        "  with open(\"file.txt\",\"r\")as f:\n",
        "    r=f.read()\n",
        "    print(r)\n",
        "else:\n",
        "  print(\"file not found\")\n"
      ]
    },
    {
      "cell_type": "code",
      "execution_count": null,
      "metadata": {
        "colab": {
          "base_uri": "https://localhost:8080/"
        },
        "id": "rp34L1He3uCo",
        "outputId": "ceb3a823-5565-42be-dbe3-373d44c16deb"
      },
      "outputs": [
        {
          "name": "stderr",
          "output_type": "stream",
          "text": [
            "ERROR:root:this is error message\n"
          ]
        }
      ],
      "source": [
        "#14.  Write a program that uses the logging module to log both informational and error messages?\n",
        "import logging\n",
        "logging.basicConfig(filename=\"error.log\",level=logging.INFO)\n",
        "\n",
        "logging.info(\"this is informational message\")\n",
        "logging.error(\"this is error message\")\n",
        "\n",
        "logging.shutdown()"
      ]
    },
    {
      "cell_type": "code",
      "execution_count": null,
      "metadata": {
        "colab": {
          "base_uri": "https://localhost:8080/"
        },
        "id": "Z6oacvnK3uLm",
        "outputId": "70e391da-5501-485f-a8f7-acf0742ede5b"
      },
      "outputs": [
        {
          "name": "stdout",
          "output_type": "stream",
          "text": [
            "file is empty\n"
          ]
        }
      ],
      "source": [
        "#15. Write a Python program that prints the content of a file and handles the case when the file is empty?\n",
        "with open(\"empty.txt\",\"w\")as f:\n",
        " f.write(\"\")\n",
        "\n",
        "size = os.path.getsize(\"empty.txt\")\n",
        "\n",
        "if size==0:\n",
        "  print(\"file is empty\")\n",
        "else:\n",
        "  with open(\"empty.txt\",\"r\")as f:\n",
        "    r=f.read()\n",
        "    print(r)"
      ]
    },
    {
      "cell_type": "code",
      "execution_count": null,
      "metadata": {
        "colab": {
          "base_uri": "https://localhost:8080/",
          "height": 383
        },
        "id": "2K6BA4bpDd4k",
        "outputId": "871312fa-831e-4d53-cb2b-0030754c0272"
      },
      "outputs": [
        {
          "ename": "ModuleNotFoundError",
          "evalue": "No module named 'memory_profiler'",
          "output_type": "error",
          "traceback": [
            "\u001b[0;31m---------------------------------------------------------------------------\u001b[0m",
            "\u001b[0;31mModuleNotFoundError\u001b[0m                       Traceback (most recent call last)",
            "\u001b[0;32m/tmp/ipython-input-180152339.py\u001b[0m in \u001b[0;36m<cell line: 0>\u001b[0;34m()\u001b[0m\n\u001b[1;32m      1\u001b[0m \u001b[0;31m#16. Demonstrate how to use memory profiling to check the memory usage of a small program?\u001b[0m\u001b[0;34m\u001b[0m\u001b[0;34m\u001b[0m\u001b[0m\n\u001b[0;32m----> 2\u001b[0;31m \u001b[0;32mfrom\u001b[0m \u001b[0mmemory_profiler\u001b[0m \u001b[0;32mimport\u001b[0m \u001b[0mprofile\u001b[0m\u001b[0;34m\u001b[0m\u001b[0;34m\u001b[0m\u001b[0m\n\u001b[0m\u001b[1;32m      3\u001b[0m \u001b[0;34m\u001b[0m\u001b[0m\n\u001b[1;32m      4\u001b[0m \u001b[0;34m@\u001b[0m\u001b[0mprofile\u001b[0m\u001b[0;34m\u001b[0m\u001b[0;34m\u001b[0m\u001b[0m\n\u001b[1;32m      5\u001b[0m \u001b[0;32mdef\u001b[0m \u001b[0mmy_function\u001b[0m\u001b[0;34m(\u001b[0m\u001b[0;34m)\u001b[0m\u001b[0;34m:\u001b[0m\u001b[0;34m\u001b[0m\u001b[0;34m\u001b[0m\u001b[0m\n",
            "\u001b[0;31mModuleNotFoundError\u001b[0m: No module named 'memory_profiler'",
            "",
            "\u001b[0;31m---------------------------------------------------------------------------\u001b[0;32m\nNOTE: If your import is failing due to a missing package, you can\nmanually install dependencies using either !pip or !apt.\n\nTo view examples of installing some common dependencies, click the\n\"Open Examples\" button below.\n\u001b[0;31m---------------------------------------------------------------------------\u001b[0m\n"
          ]
        }
      ],
      "source": [
        "#16. Demonstrate how to use memory profiling to check the memory usage of a small program?\n",
        "from memory_profiler import profile\n",
        "\n",
        "@profile\n",
        "def my_function():\n",
        "    a = [1] * 10\n",
        "    b = [2] * 20\n",
        "    return a, b\n",
        "\n",
        "my_function()"
      ]
    },
    {
      "cell_type": "code",
      "execution_count": null,
      "metadata": {
        "colab": {
          "base_uri": "https://localhost:8080/"
        },
        "id": "0a7b20a6",
        "outputId": "2b53d846-8355-4122-d70f-49874ea79bf3"
      },
      "outputs": [
        {
          "name": "stdout",
          "output_type": "stream",
          "text": [
            "Collecting memory-profiler\n",
            "  Downloading memory_profiler-0.61.0-py3-none-any.whl.metadata (20 kB)\n",
            "Requirement already satisfied: psutil in /usr/local/lib/python3.12/dist-packages (from memory-profiler) (5.9.5)\n",
            "Downloading memory_profiler-0.61.0-py3-none-any.whl (31 kB)\n",
            "Installing collected packages: memory-profiler\n",
            "Successfully installed memory-profiler-0.61.0\n"
          ]
        }
      ],
      "source": [
        "!pip install memory-profiler"
      ]
    },
    {
      "cell_type": "code",
      "execution_count": null,
      "metadata": {
        "colab": {
          "base_uri": "https://localhost:8080/"
        },
        "id": "22532c9f",
        "outputId": "aa6fe940-55e3-47e1-d1eb-64ab6b375fd3"
      },
      "outputs": [
        {
          "name": "stdout",
          "output_type": "stream",
          "text": [
            "ERROR: Could not find file /tmp/ipython-input-180152339.py\n"
          ]
        },
        {
          "data": {
            "text/plain": [
              "([1, 1, 1, 1, 1, 1, 1, 1, 1, 1],\n",
              " [2, 2, 2, 2, 2, 2, 2, 2, 2, 2, 2, 2, 2, 2, 2, 2, 2, 2, 2, 2])"
            ]
          },
          "execution_count": 31,
          "metadata": {},
          "output_type": "execute_result"
        }
      ],
      "source": [
        "#16. Demonstrate how to use memory profiling to check the memory usage of a small program?\n",
        "from memory_profiler import profile\n",
        "\n",
        "@profile\n",
        "def my_function():\n",
        "    a = [1] * 10\n",
        "    b = [2] * 20\n",
        "    return a, b\n",
        "\n",
        "my_function()"
      ]
    },
    {
      "cell_type": "code",
      "execution_count": null,
      "metadata": {
        "colab": {
          "base_uri": "https://localhost:8080/"
        },
        "id": "5B_MivmuEnRN",
        "outputId": "ba53ab00-6ba6-402c-96d6-c4ccd1a41ec5"
      },
      "outputs": [
        {
          "name": "stdout",
          "output_type": "stream",
          "text": [
            "['1']\n",
            "['2']\n",
            "['3']\n",
            "['4']\n",
            "['5']\n",
            "['6']\n"
          ]
        }
      ],
      "source": [
        "#17.  Write a Python program to create and write a list of numbers to a file, one number per line\n",
        "data=[1,2,3,4,5,6]\n",
        "import csv\n",
        "\n",
        "with open(\"file_csv.csv\",\"w\")as f:\n",
        "  writer=csv.writer(f)\n",
        "  for num in data:\n",
        "   writer.writerow([num])\n",
        "\n",
        "with open(\"file_csv.csv\",\"r\")as f:\n",
        "  reader=csv.reader(f)\n",
        "  for row in reader:\n",
        "    print(row)"
      ]
    },
    {
      "cell_type": "code",
      "execution_count": null,
      "metadata": {
        "colab": {
          "base_uri": "https://localhost:8080/"
        },
        "id": "DX7JQ8RHEnaq",
        "outputId": "9b37f3cd-0a0b-4599-aacc-f1944689d164"
      },
      "outputs": [
        {
          "name": "stderr",
          "output_type": "stream",
          "text": [
            "ERROR:root:this is error message\n",
            "WARNING:root:this is last warning\n"
          ]
        }
      ],
      "source": [
        "#18. How would you implement a basic logging setup that logs to a file with rotation after 1MB?\n",
        "import logging\n",
        "from logging.handlers import RotatingFileHandler\n",
        "\n",
        "logging.basicConfig(filename=\"test_log.txt\",level=logging.INFO)\n",
        "\n",
        "logging.info(\"this is info message\")\n",
        "logging.error(\"this is error message\")\n",
        "logging.warning(\"this is last warning\")\n",
        "\n",
        "logging.shutdown()"
      ]
    },
    {
      "cell_type": "code",
      "execution_count": null,
      "metadata": {
        "colab": {
          "base_uri": "https://localhost:8080/"
        },
        "id": "3gc3RxPAEnjc",
        "outputId": "7d82b9eb-08f8-49c6-ee0f-499dac85aa18"
      },
      "outputs": [
        {
          "name": "stdout",
          "output_type": "stream",
          "text": [
            "error is: 'course'\n"
          ]
        }
      ],
      "source": [
        "#19. Write a program that handles both IndexError and KeyError using a try-except block?\n",
        "try:\n",
        "  dic={\"name\":\"Siddhant\",\"age\":20}\n",
        "  dic[\"course\"]\n",
        "  l1=[1,2,3,4]\n",
        "  l1[5]\n",
        "except (KeyError,IndexError) as e:\n",
        "  print(\"error is:\",e)\n"
      ]
    },
    {
      "cell_type": "code",
      "execution_count": 4,
      "metadata": {
        "colab": {
          "base_uri": "https://localhost:8080/"
        },
        "id": "fkIFeDjVJavC",
        "outputId": "577278f9-3a10-4480-c826-d5029edf3272"
      },
      "outputs": [
        {
          "name": "stdout",
          "output_type": "stream",
          "text": [
            "Hey, my name is Siddhant\n",
            "I am in DS course\n"
          ]
        }
      ],
      "source": [
        "#20. How would you open a file and read its contents using a context manager in Python?\n",
        "with open(\"file.txt\",\"r\")as f:\n",
        "  r=f.read()\n",
        "  print(r)"
      ]
    },
    {
      "cell_type": "code",
      "execution_count": 5,
      "metadata": {
        "colab": {
          "base_uri": "https://localhost:8080/"
        },
        "id": "B_MciDIIM9OT",
        "outputId": "7223c6a0-4171-4e79-fcf5-9c29bb65a164"
      },
      "outputs": [
        {
          "name": "stdout",
          "output_type": "stream",
          "text": [
            "1\n"
          ]
        }
      ],
      "source": [
        "#21. Write a Python program that reads a file and prints the number of occurrences of a specific word?\n",
        "\n",
        "with open(\"file.txt\",\"r\")as f:\n",
        "  r=f.read()\n",
        "  print(r.count(\"Siddhant\"))"
      ]
    },
    {
      "cell_type": "code",
      "execution_count": 6,
      "metadata": {
        "colab": {
          "base_uri": "https://localhost:8080/"
        },
        "id": "6k7O-CxQJa34",
        "outputId": "8e3fb14e-062d-4490-f24b-825689bedf0b"
      },
      "outputs": [
        {
          "name": "stdout",
          "output_type": "stream",
          "text": [
            "this file is not empty:\n",
            " Hey, my name is Siddhant\n",
            "I am in DS course\n"
          ]
        }
      ],
      "source": [
        "#22. How can you check if a file is empty before attempting to read its contents?\n",
        "import os\n",
        "size = os.path.getsize(\"file.txt\")\n",
        "\n",
        "if size==0:\n",
        "  print(\"file is empty\")\n",
        "else:\n",
        "  with open(\"file.txt\",\"r\")as f:\n",
        "    r=f.read()\n",
        "    print(\"this file is not empty:\\n\",r)\n"
      ]
    },
    {
      "cell_type": "code",
      "execution_count": null,
      "metadata": {
        "id": "1EtBmTNkN0vo"
      },
      "outputs": [],
      "source": [
        "#23. Write a Python program that writes to a log file when an error occurs during file handling.\n",
        "try:\n",
        "    with open(\"data.txt\", \"r\") as file:\n",
        "        c = file.read()\n",
        "        print(c)\n",
        "\n",
        "except Exception as e:\n",
        "    with open(\"error_log.txt\", \"a\") as log_file:\n",
        "        log_file.write(f\"Error: {str(e)}\\n\")\n",
        "\n",
        "# output:\n",
        "# Error: [Errno 2] No such file or directory: 'data.txt'"
      ]
    }
  ],
  "metadata": {
    "colab": {
      "provenance": []
    },
    "kernelspec": {
      "display_name": "Python 3",
      "name": "python3"
    },
    "language_info": {
      "codemirror_mode": {
        "name": "ipython",
        "version": 3
      },
      "file_extension": ".py",
      "mimetype": "text/x-python",
      "name": "python",
      "nbconvert_exporter": "python",
      "pygments_lexer": "ipython3",
      "version": "3.9.6"
    }
  },
  "nbformat": 4,
  "nbformat_minor": 0
}
