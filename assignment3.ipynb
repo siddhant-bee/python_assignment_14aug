{
 "cells": [
  {
   "cell_type": "markdown",
   "id": "dd42bb1d",
   "metadata": {},
   "source": [
    "# THEORY QUESTION "
   ]
  },
  {
   "cell_type": "markdown",
   "id": "6ff133f2",
   "metadata": {},
   "source": [
    "Q1 → What is the difference between a function and a method in Python?\n"
   ]
  },
  {
   "cell_type": "markdown",
   "id": "34ad07d7",
   "metadata": {},
   "source": [
    "Ans1 →\n",
    "A function is a block of reusable code defined using def or lambda that can be called independently.\n",
    "A method is a function that is associated with an object and is called on that object.\n",
    "```\n",
    "Exaple-> \n",
    "::Function\n",
    "def add(a, b):\n",
    "    return a + b\n",
    "\n",
    "print(add(2, 3))   # Output: 5\n",
    "\n",
    "::Method (associated with object str)\n",
    "text = \"hello\"\n",
    "print(text.upper())   # Output: \"HELLO\"\n",
    "\n",
    "```"
   ]
  },
  {
   "cell_type": "markdown",
   "id": "ca0907a6",
   "metadata": {},
   "source": [
    "Q2 → Explain the concept of function arguments and parameters in Python.\n",
    "\n"
   ]
  },
  {
   "cell_type": "markdown",
   "id": "027c2775",
   "metadata": {},
   "source": [
    "Ans2 →\n",
    "Parameters are variables defined in a function declaration.\n",
    "Arguments are actual values passed when calling the function.\n",
    "```\n",
    "\n",
    "Exaple ->\n",
    "def greet(name):   # 'name' is a parameter\n",
    "    return f\"Hello, {name}\"\n",
    "\n",
    "print(greet(\"Alice\"))  # \"Alice\" is the argument\n",
    "```"
   ]
  },
  {
   "cell_type": "markdown",
   "id": "b8a25f80",
   "metadata": {},
   "source": [
    "Q3 → What are the different ways to define and call a function in Python?\n"
   ]
  },
  {
   "cell_type": "markdown",
   "id": "726bb659",
   "metadata": {},
   "source": [
    "Ans3 →\n",
    "Using def\n",
    "def square(x):\n",
    "    return x * x\n",
    "print(square(4))  # Output: 16\n",
    "Using lambda\n",
    "square = lambda x: x * x\n",
    "print(square(4))  # Output: 16\n",
    "Built-in functions (e.g., len(\"abc\"))"
   ]
  },
  {
   "cell_type": "markdown",
   "id": "62492a0c",
   "metadata": {},
   "source": [
    "Q4 → What is the purpose of the return statement in a Python function?\n"
   ]
  },
  {
   "cell_type": "markdown",
   "id": "fc4999c6",
   "metadata": {},
   "source": [
    "Ans4 →\n",
    "The return statement is used to send a result back from a function to the caller.\n",
    "Without return, the function returns None by default.\n",
    "```\n",
    "Example:\n",
    "def add(a, b):\n",
    "    return a + b\n",
    "\n",
    "result = add(5, 7)\n",
    "print(result)  # Output: 12\n",
    "```\n"
   ]
  },
  {
   "cell_type": "markdown",
   "id": "a9c52e41",
   "metadata": {},
   "source": [
    "Q5 → What are iterators in Python and how do they differ from iterables?\n",
    "\n"
   ]
  },
  {
   "cell_type": "markdown",
   "id": "e52ae7df",
   "metadata": {},
   "source": [
    "Ans5 →\n",
    "Iterable: Any object that can return an iterator (e.g., lists, strings, tuples).\n",
    "Iterator: An object with __next__() method that gives next element until exhausted.\n",
    "```\n",
    "Example:\n",
    "nums = [1, 2, 3]      # iterable\n",
    "it = iter(nums)       # iterator\n",
    "print(next(it))  # 1\n",
    "print(next(it))  # 2\n",
    "```\n"
   ]
  },
  {
   "cell_type": "markdown",
   "id": "832e8757",
   "metadata": {},
   "source": [
    "Q6 → Explain the concept of generators in Python and how they are defined.\n",
    "\n"
   ]
  },
  {
   "cell_type": "markdown",
   "id": "002e46f8",
   "metadata": {},
   "source": [
    "Ans6 →\n",
    "A generator is a special function that yields values one by one using the yield keyword.\n",
    "Generators are memory-efficient compared to lists.\n",
    "```\n",
    "Example:\n",
    "def countdown(n):\n",
    "    while n > 0:\n",
    "        yield n\n",
    "        n -= 1\n",
    "\n",
    "for i in countdown(3):\n",
    "    print(i)   # Output: 3, 2, 1\n",
    "```"
   ]
  },
  {
   "cell_type": "markdown",
   "id": "0ad01b36",
   "metadata": {},
   "source": [
    "Q7 → What are the advantages of using generators over regular functions?\n"
   ]
  },
  {
   "cell_type": "markdown",
   "id": "359c5bb1",
   "metadata": {},
   "source": [
    "Ans7 →\n",
    "They are memory efficient (don’t store entire data in memory).\n",
    "Support lazy evaluation (values generated only when needed).\n",
    "Useful for handling large datasets or infinite sequences.\n",
    "Example: reading large files line by line using yield."
   ]
  },
  {
   "cell_type": "markdown",
   "id": "3b0347db",
   "metadata": {},
   "source": [
    "Q8 → What is a lambda function in Python and when is it typically used?\n"
   ]
  },
  {
   "cell_type": "markdown",
   "id": "bb3953bb",
   "metadata": {},
   "source": [
    "Ans8 →\n",
    "A lambda function is an anonymous (unnamed) function defined using the lambda keyword.\n",
    "Typically used for short, throwaway functions.\n",
    "```\n",
    "Example:\n",
    "double = lambda x: x * 2\n",
    "print(double(5))   # Output: 10\n",
    "```"
   ]
  },
  {
   "cell_type": "markdown",
   "id": "61364d8e",
   "metadata": {},
   "source": [
    "Q9 → Explain the purpose and usage of the map() function in Python.\n"
   ]
  },
  {
   "cell_type": "markdown",
   "id": "035aa5c0",
   "metadata": {},
   "source": [
    "Ans9 →\n",
    "map() applies a function to each element of an iterable and returns a map object (iterator).\n",
    "```\n",
    "Example:\n",
    "nums = [1, 2, 3, 4]\n",
    "squares = list(map(lambda x: x**2, nums))\n",
    "print(squares)  # Output: [1, 4, 9, 16]\n",
    "```"
   ]
  },
  {
   "cell_type": "markdown",
   "id": "f18c52ff",
   "metadata": {},
   "source": [
    "Q10 → What is the difference between map(), reduce(), and filter() functions in Python?\n"
   ]
  },
  {
   "cell_type": "markdown",
   "id": "3f2f83f8",
   "metadata": {},
   "source": [
    "Ans10 →\n",
    "map(function, iterable) → applies a function to every element.\n",
    "filter(function, iterable) → filters elements based on condition (function must return True/False).\n",
    "reduce(function, iterable) → applies rolling computation to reduce iterable into a single value.\n",
    "```\n",
    "Example:\n",
    "from functools import reduce\n",
    "\n",
    "nums = [1, 2, 3, 4]\n",
    "\n",
    "# map\n",
    "print(list(map(lambda x: x*2, nums)))  # [2,4,6,8]\n",
    "\n",
    "# filter\n",
    "print(list(filter(lambda x: x%2==0, nums)))  # [2,4]\n",
    "\n",
    "# reduce\n",
    "print(reduce(lambda a,b: a+b, nums))  # 10\n",
    "```"
   ]
  },
  {
   "cell_type": "markdown",
   "id": "5864bdd2",
   "metadata": {},
   "source": [
    "Q11 → Using pen & paper write the internal mechanism for sum operation using reduce function on this given list: [47, 11, 42, 13]\n"
   ]
  },
  {
   "cell_type": "markdown",
   "id": "8cffae5b",
   "metadata": {},
   "source": [
    "Ans11 →\n",
    "```\n",
    "reduce(lambda a, b: a + b, [47, 11, 42, 13]) works step by step as:\n",
    "First apply → 47 + 11 = 58\n",
    "Next apply → 58 + 42 = 100\n",
    "Next apply → 100 + 13 = 113\n",
    "Final Answer = 113\n",
    "```"
   ]
  },
  {
   "cell_type": "markdown",
   "id": "c86baf18",
   "metadata": {},
   "source": [
    "# PRACTICAL QUESTIONS"
   ]
  },
  {
   "cell_type": "markdown",
   "id": "403c47d6",
   "metadata": {},
   "source": [
    "Q1 - > WAP to take a list of number as input and return the sum of all the even number in the list "
   ]
  },
  {
   "cell_type": "code",
   "execution_count": 5,
   "id": "9d9f93aa",
   "metadata": {},
   "outputs": [
    {
     "name": "stdout",
     "output_type": "stream",
     "text": [
      "20\n"
     ]
    }
   ],
   "source": [
    "p_list = [1,2,3,4,5,6,7,8,9]\n",
    "\n",
    "def sun_of_even(p_list):\n",
    "    even_list = filter(lambda x : x%2 == 0, p_list)\n",
    "    return sum(even_list)\n",
    "\n",
    "print(sun_of_even(p_list))\n",
    "    "
   ]
  },
  {
   "cell_type": "code",
   "execution_count": 6,
   "id": "b39ad5af",
   "metadata": {},
   "outputs": [
    {
     "name": "stdout",
     "output_type": "stream",
     "text": [
      "Reversed string: dlroW olleH\n"
     ]
    }
   ],
   "source": [
    "#2 create a python function to accept a string and return the reverse of the string.\n",
    "\n",
    "def reverse_string(str):\n",
    "    return str[::-1]\n",
    "\n",
    "str = input(\"Enter a string: \")\n",
    "print(\"Reversed string:\", reverse_string(str))"
   ]
  },
  {
   "cell_type": "code",
   "execution_count": null,
   "id": "9a10f4f4",
   "metadata": {},
   "outputs": [
    {
     "name": "stdout",
     "output_type": "stream",
     "text": [
      "[1, 4, 9, 16, 25]\n"
     ]
    }
   ],
   "source": [
    "#3 write a python function to accept a list and return a new list containing square of each number in the list.\n",
    "\n",
    "def sq_fn(num_list):\n",
    "    return new_list = list(map(lambda x: x**2, num_list))\n",
    "    \n",
    "print(sq_fn([1,2,3,4,5]))"
   ]
  },
  {
   "cell_type": "code",
   "execution_count": 18,
   "id": "4ce48920",
   "metadata": {},
   "outputs": [
    {
     "name": "stdout",
     "output_type": "stream",
     "text": [
      "the given 7 is prime\n"
     ]
    }
   ],
   "source": [
    "#4 WAP to check if given num is prine or not bn 1-200\n",
    "def isprime(n):\n",
    "    if n < 2:\n",
    "        return False\n",
    "    for i in range(2, int(n**0.5) + 1):\n",
    "        if n % i == 0:\n",
    "            return False\n",
    "    return True\n",
    "\n",
    "def is_prime(num):\n",
    "    if num<=1 or num >=200:\n",
    "        print('OUT OF RANGE')\n",
    "    else:\n",
    "        if isprime(num):\n",
    "            print(f'the given {num } is prime')\n",
    "        else:\n",
    "            print(f'the given {num } is not prime') \n",
    "        \n",
    "        \n",
    "num = int(input(\"Enter a number: \"))\n",
    "is_prime(num)        "
   ]
  },
  {
   "cell_type": "code",
   "execution_count": 24,
   "id": "d1d48538",
   "metadata": {},
   "outputs": [
    {
     "name": "stdout",
     "output_type": "stream",
     "text": [
      "0 1 1 2 3 5 "
     ]
    }
   ],
   "source": [
    "#Q5 → Create an iterator class in Python that generates the Fibonacci sequence up to a specified number of terms.\n",
    "class Fibonacci:\n",
    "    def __init__(self, n):\n",
    "        self.n = n\n",
    "        self.a, self.b = 0, 1\n",
    "        self.count = 0\n",
    "\n",
    "    def __iter__(self):\n",
    "        return self\n",
    "\n",
    "    def __next__(self):\n",
    "        if self.count >= self.n:\n",
    "            raise StopIteration\n",
    "        val = self.a\n",
    "        self.a, self.b = self.b, self.a + self.b\n",
    "        self.count += 1\n",
    "        return val\n",
    "\n",
    "for num in Fibonacci(6):\n",
    "    print(num, end=\" \")  \n"
   ]
  },
  {
   "cell_type": "code",
   "execution_count": 17,
   "id": "10eadf72",
   "metadata": {},
   "outputs": [
    {
     "name": "stdout",
     "output_type": "stream",
     "text": [
      "[1, 2, 4, 8, 16, 32]\n"
     ]
    }
   ],
   "source": [
    "#6 → Write a generator function in Python that yields the powers of 2 up to a given exponent.\n",
    "def powers_of_two(n):\n",
    "    for i in range(n + 1):\n",
    "        yield 2**i\n",
    "\n",
    "print(list(powers_of_two(5)))\n"
   ]
  },
  {
   "cell_type": "code",
   "execution_count": 20,
   "id": "bd6a2f71",
   "metadata": {},
   "outputs": [
    {
     "name": "stdout",
     "output_type": "stream",
     "text": [
      "hi how are you\n",
      "im good what about you\n",
      "i m also good just learning python\n",
      "oh thats great !\n"
     ]
    }
   ],
   "source": [
    "#7 → Implement a generator function that reads a file line by line and yields each line as a string.\n",
    "\n",
    "def read_file_generator(filename):\n",
    "    with open(filename, 'r') as file:\n",
    "        for line in file:\n",
    "            yield line.strip()\n",
    "\n",
    "# Example usage (assuming sample.txt exists)\n",
    "for line in read_file_generator(\"sample.txt\"):\n",
    "    print(line)"
   ]
  },
  {
   "cell_type": "code",
   "execution_count": 21,
   "id": "20ab5090",
   "metadata": {},
   "outputs": [
    {
     "name": "stdout",
     "output_type": "stream",
     "text": [
      "[(2, 1), (4, 2), (1, 3)]\n"
     ]
    }
   ],
   "source": [
    "#Q8 → Use a lambda function in Python to sort a list of tuples based on the second element of each tuple.\n",
    "tuples_list = [(1, 3), (2, 1), (4, 2)]\n",
    "sorted_list = sorted(tuples_list, key=lambda x: x[1])\n",
    "print(sorted_list)  "
   ]
  },
  {
   "cell_type": "code",
   "execution_count": 22,
   "id": "64e34cd8",
   "metadata": {},
   "outputs": [
    {
     "name": "stdout",
     "output_type": "stream",
     "text": [
      "[32.0, 68.0, 86.0, 104.0]\n"
     ]
    }
   ],
   "source": [
    "#Q9 → Write a Python program that uses map() to convert a list of temperatures from Celsius to Fahrenheit.\n",
    "\n",
    "celsius = [0, 20, 30, 40]\n",
    "fahrenheit = list(map(lambda c: (c * 9/5) + 32, celsius))\n",
    "print(fahrenheit)  "
   ]
  },
  {
   "cell_type": "code",
   "execution_count": 23,
   "id": "0ee4469c",
   "metadata": {},
   "outputs": [
    {
     "name": "stdout",
     "output_type": "stream",
     "text": [
      "Hll Wrld\n"
     ]
    }
   ],
   "source": [
    "#Q10 → Create a Python program that uses filter() to remove all the vowels from a given string.\n",
    "def remove_vowels(s):\n",
    "    vowels = \"aeiouAEIOU\"\n",
    "    return \"\".join(filter(lambda ch: ch not in vowels, s))\n",
    "\n",
    "print(remove_vowels(\"Hello World\"))  \n"
   ]
  },
  {
   "cell_type": "code",
   "execution_count": 27,
   "id": "8df9b423",
   "metadata": {},
   "outputs": [
    {
     "name": "stdout",
     "output_type": "stream",
     "text": [
      "[(34587, 163.8), (98762, 284.0), (77226, 108.85), (88112, 84.97)]\n"
     ]
    }
   ],
   "source": [
    "#11 Imagine an accounting routine used in a book shop. It works on a list with sublists:\n",
    "\n",
    "\n",
    "\n",
    "orders = [\n",
    "    [34587, \"Learning Python, Mark Lutz\", 4, 40.95],\n",
    "    [98762, \"Programming Python, Mark Lutz\", 5, 56.80],\n",
    "    [77226, \"Head First Python, Paul Barry\", 3, 32.95],\n",
    "    [88112, \"Einführung in Python3, Bernd Klein\", 3, 24.99]\n",
    "]\n",
    "\n",
    "result = list(map(lambda order: (\n",
    "    order[0],  # order number\n",
    "    round(order[2] * order[3] if order[2] * order[3] >= 100 else order[2] * order[3] + 10, 2)\n",
    "), orders))\n",
    "\n",
    "print(result)\n"
   ]
  },
  {
   "cell_type": "code",
   "execution_count": null,
   "id": "8620cae0",
   "metadata": {},
   "outputs": [],
   "source": []
  }
 ],
 "metadata": {
  "kernelspec": {
   "display_name": "Python 3",
   "language": "python",
   "name": "python3"
  },
  "language_info": {
   "codemirror_mode": {
    "name": "ipython",
    "version": 3
   },
   "file_extension": ".py",
   "mimetype": "text/x-python",
   "name": "python",
   "nbconvert_exporter": "python",
   "pygments_lexer": "ipython3",
   "version": "3.9.6"
  }
 },
 "nbformat": 4,
 "nbformat_minor": 5
}
