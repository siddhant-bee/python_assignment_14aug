{
  "cells": [
    {
      "cell_type": "markdown",
      "metadata": {
        "id": "Erc8d_8pRV44"
      },
      "source": [
        "Assignment 4 : OOPs"
      ]
    },
    {
      "cell_type": "markdown",
      "metadata": {
        "id": "Pkmb_j2-RbQr"
      },
      "source": [
        "1.What is Object-Oriented Programming (OOP)?\n",
        ">Object-Oriented Programming (OOP) is a programming paradigm that organizes code into objects containing data (attributes) and behavior (methods). It focuses on real-world modeling using concepts like encapsulation, inheritance, polymorphism, and abstraction to make code reusable, modular, and easier to maintain.\n"
      ]
    },
    {
      "cell_type": "markdown",
      "metadata": {
        "id": "PY32zYajRdkg"
      },
      "source": [
        "2.What is a class in OOP?\n",
        ">In OOP, a class is a blueprint or template for creating objects. It defines the attributes (data/variables) and methods (functions/behaviors) that the objects created from it will have.\n",
        "\n",
        ">Syntax :\n",
        "\n",
        "```\n",
        "class ClassName:\n",
        "    # attributes (variables)\n",
        "    \n",
        "    # methods (functions)\n",
        "    def method_name(self, parameters):\n",
        "        # code block\n",
        "        pass\n",
        "```\n",
        "\n"
      ]
    },
    {
      "cell_type": "markdown",
      "metadata": {
        "id": "Ogt1YIqGRl6G"
      },
      "source": [
        "3.What is an object in OOP?\n",
        ">In OOP, an object is an instance of a class.\n",
        "It represents a real-world entity that has its own data (attributes) and can perform actions (methods) defined in the class.\n",
        "\n",
        "\n",
        "\n",
        "```\n",
        "class Car:\n",
        "    def __init__(self, brand, model):\n",
        "        self.brand = brand\n",
        "        self.model = model\n",
        "\n",
        "    def display(self):\n",
        "        print(f\"Car: {self.brand} {self.model}\")\n",
        "\n",
        "# Creating objects\n",
        "car1 = Car(\"Tesla\", \"Model X\")   # object 1\n",
        "car2 = Car(\"BMW\", \"i8\")          # object 2\n",
        "\n",
        "car1.display()\n",
        "car2.display()\n",
        "```\n",
        "\n"
      ]
    },
    {
      "cell_type": "markdown",
      "metadata": {
        "id": "5mUSPVJlRo29"
      },
      "source": [
        "4.What is the difference between abstraction and encapsulation?\n",
        "\n",
        "1. Definition:\n",
        "\n",
        ">>Abstraction: Hides implementation details and shows only the essential features.\n",
        "\n",
        ">>Encapsulation: Hides data by bundling variables and methods inside a class.\n",
        "\n",
        "2. Focus:\n",
        "\n",
        ">>Abstraction: Focuses on what an object does.\n",
        "\n",
        ">>Encapsulation: Focuses on how data is accessed and protected.\n",
        "\n",
        "3. Achieved By:\n",
        "\n",
        ">>Abstraction: Through abstract classes and interfaces.\n",
        "\n",
        ">>Encapsulation: Through access modifiers (public, private, protected).\n",
        "\n",
        "4. Purpose:\n",
        "\n",
        ">>Abstraction: To reduce complexity for the user.\n",
        "\n",
        ">>Encapsulation: To ensure security and controlled access to data.\n",
        "\n",
        "5. Example:\n",
        "\n",
        ">>Abstraction: A driver presses brake/accelerator without knowing engine details.\n",
        "\n",
        ">>Encapsulation: The engine’s internal data is hidden but controlled via methods."
      ]
    },
    {
      "cell_type": "markdown",
      "metadata": {
        "id": "vy_vsPWvR0UO"
      },
      "source": [
        "5.What are dunder methods in Python?\n",
        ">Dunder methods in Python (short for Double UNDERSCORE methods) are special built-in methods that begin and end with double underscores (__methodname__).\n",
        "They are also called magic methods and are used to define the behavior of objects for built-in operations.\n",
        "\n",
        ">Start and end with __ (example: __init__, __str__, __len__).\n",
        "\n",
        ">They are automatically called by Python in certain situations.\n",
        "\n",
        ">Help in operator overloading and customizing object behavior."
      ]
    },
    {
      "cell_type": "markdown",
      "metadata": {
        "id": "wf-SKNfjR3Wo"
      },
      "source": [
        "6.Explain the concept of inheritance in OOP.\n",
        "\n",
        ">Inheritance in OOP is a concept where one class (called the child class or derived class) can reuse the properties and methods of another class (called the parent class or base class).\n",
        "\n",
        ">It allows code reusability, extensibility, and helps build a hierarchy of classes.\n",
        "\n",
        ">Key Points:\n",
        "\n",
        ">>Parent/Base Class → The class whose features are inherited.\n",
        "\n",
        ">>Child/Derived Class → The class that inherits from the parent.\n",
        "\n",
        ">>A child class can also have its own additional properties and methods"
      ]
    },
    {
      "cell_type": "markdown",
      "metadata": {
        "id": "SCbHwyrMR6aD"
      },
      "source": [
        "7.What is polymorphism in OOP?\n",
        ">Polymorphism in OOP is the ability of an object to take many forms. It allows different classes to be treated through the same interface, and the same operation can behave differently based on the object calling it.\n",
        "\n",
        "Enables code flexibility and reusability that is achieved via method overloading, method overriding, and operator overloading.\n",
        "\n",
        "\n",
        "```\n",
        "class Animal:\n",
        "    def sound(self):\n",
        "        print(\"Some generic sound\")\n",
        "\n",
        "class Dog(Animal):\n",
        "    def sound(self):  # Overriding parent method\n",
        "        print(\"Bark\")\n",
        "\n",
        "class Cat(Animal):\n",
        "    def sound(self):\n",
        "        print(\"Meow\")\n",
        "\n",
        "# Using same interface\n",
        "animals = [Dog(), Cat()]\n",
        "for animal in animals:\n",
        "    animal.sound()\n",
        "\n",
        "```\n",
        "\n"
      ]
    },
    {
      "cell_type": "markdown",
      "metadata": {
        "id": "C-uJs_fySCi4"
      },
      "source": [
        "8.How is encapsulation achieved in Python?\n",
        ">Encapsulation in Python is achieved by restricting access to the internal data of a class and providing controlled access through methods.\n",
        "\n",
        ">Key Points:\n",
        "\n",
        ">1. Hides the internal details of an object to prevent unauthorized access.\n",
        "\n",
        ">2. Uses access modifiers to define visibility:\n",
        "\n",
        ">>a. Public (variable) → Accessible from anywhere.\n",
        "\n",
        ">>b. Protected (_variable) → Should not be accessed directly outside the class (convention).\n",
        "\n",
        ">>c. Private (__variable) → Not accessible directly from outside the class."
      ]
    },
    {
      "cell_type": "markdown",
      "metadata": {
        "id": "a7dxZ5RvR-aC"
      },
      "source": [
        "9.What is a constructor in Python?\n",
        ">A constructor in Python is a special method used to initialize an object’s attributes when the object is created.\n",
        "\n",
        ">Key Points:\n",
        "\n",
        ">1. Always named __init__().\n",
        "\n",
        ">2. Automatically called when an object is created.\n",
        "\n",
        ">3. Can take parameters to initialize object properties.\n",
        "\n",
        ">4. Helps in setting default values for object attributes.\n",
        "\n",
        "```\n",
        "class Car:\n",
        "    def __init__(self, brand, model):  # Constructor\n",
        "        self.brand = brand\n",
        "        self.model = model\n",
        "\n",
        "    def display(self):\n",
        "        print(f\"Car: {self.brand} {self.model}\")\n",
        "\n",
        "# Object creation\n",
        "car1 = Car(\"Tesla\", \"Model X\")\n",
        "car1.display()\n",
        "\n",
        "```\n",
        "\n"
      ]
    },
    {
      "cell_type": "markdown",
      "metadata": {
        "id": "sNyZ8tvES3co"
      },
      "source": [
        "10.What are class and static methods in Python?\n",
        "\n",
        ">In Python, class methods and static methods are special methods that are not tied to a specific object but to the class itself.\n",
        "\n",
        ">1. Class Method\n",
        "\n",
        ">>Defined using the @classmethod decorator.\n",
        "\n",
        ">>Takes cls as the first parameter (refers to the class, not the object).\n",
        "\n",
        ">>Can access or modify class variables, but cannot access instance variables.\n",
        "\n",
        "```\n",
        "class Car:\n",
        "    wheels = 4  # Class variable\n",
        "\n",
        "    @classmethod\n",
        "    def show_wheels(cls):\n",
        "        print(f\"A car has {cls.wheels} wheels\")\n",
        "\n",
        "Car.show_wheels()  \n",
        "\n",
        "```\n",
        "\n",
        ">2. Static Method\n",
        "\n",
        ">>Defined using the @staticmethod decorator.\n",
        "\n",
        ">>Does not take self or cls as a parameter.\n",
        "\n",
        ">>Cannot access instance or class variables directly.\n",
        "\n",
        ">>Used for utility or helper functions related to the class.\n",
        "\n",
        "```\n",
        "class Car:\n",
        "    @staticmethod\n",
        "    def car_sound():\n",
        "        print(\"Vroom! Vroom!\")\n",
        "\n",
        "Car.car_sound()\n",
        "```\n",
        "\n",
        "\n"
      ]
    },
    {
      "cell_type": "markdown",
      "metadata": {
        "id": "f0FN9jxTS6Va"
      },
      "source": [
        "11.What is method overloading in Python?\n",
        "\n",
        ">Method Overloading in Python is the ability to define multiple methods with the same name but different parameters (number or type) in the same class.However, Python does not support traditional method overloading like Java or C++.\n",
        "\n",
        ">If multiple methods with the same name are defined, the last one overrides the previous ones.\n",
        "\n",
        ">To achieve overloading, we can use default arguments or variable-length arguments (*args, **kwargs).\n",
        "\n",
        "```\n",
        "class Math:\n",
        "    def add(self, *numbers):   # Accepts any number of arguments\n",
        "        return sum(numbers)\n",
        "\n",
        "m = Math()\n",
        "print(m.add(5, 10))       \n",
        "print(m.add(5, 10, 20))  \n",
        "\n",
        "```\n",
        "\n"
      ]
    },
    {
      "cell_type": "markdown",
      "metadata": {
        "id": "cM_YuGyPS9oF"
      },
      "source": [
        "12.What is method overriding in OOP?\n",
        "\n",
        ">Method Overriding in OOP occurs when a child class provides its own implementation of a method that is already defined in its parent class.\n",
        "\n",
        ">Key Points:\n",
        "\n",
        ">1. Allows runtime polymorphism.\n",
        "\n",
        ">2. The child class method overrides the parent class method with the same name, same parameters.\n",
        "\n",
        ">3. Enables custom behavior in the child class while reusing the parent’s structure."
      ]
    },
    {
      "cell_type": "markdown",
      "metadata": {
        "id": "WapybofuTDkk"
      },
      "source": [
        "13.What is a property decorator in Python?\n",
        "\n",
        ">A property decorator in Python is a built-in @property that allows you to access a method like an attribute.\n",
        "It is mainly used to control access to private variables and provide getter, setter, and deleter functionality in a clean way.\n",
        "\n",
        ">Key Points:\n",
        "\n",
        ">1. @property makes a method behave like a read-only attribute.\n",
        "\n",
        ">2. Can define getter, setter, and deleter for controlled access.\n",
        "\n",
        ">3. Helps in encapsulation without changing how the variable is accessed."
      ]
    },
    {
      "cell_type": "markdown",
      "metadata": {
        "id": "_DGcrBEKTIaT"
      },
      "source": [
        "14.Why is polymorphism important in OOP?\n",
        "\n",
        ">Polymorphism is important in OOP because it allows objects of different classes to be treated uniformly through a common interface.\n",
        "\n",
        ">Key Reasons:\n",
        "\n",
        ">1. Code Reusability: Same method name can be used for different object types.\n",
        "\n",
        ">2. Flexibility: Objects can behave differently while using the same method.\n",
        "\n",
        ">3. Simplifies Code: Reduces conditional statements for different object types.\n",
        "\n",
        ">4. Supports Runtime Polymorphism: Methods can be overridden in child classes to provide specific behavior.\n",
        "\n",
        ">5. Easier Maintenance & Extensibility: New classes can be added without changing existing code."
      ]
    },
    {
      "cell_type": "markdown",
      "metadata": {
        "id": "ffZjI5Y_TMHW"
      },
      "source": [
        "15.What is an abstract class in Python?\n",
        "\n",
        ">An abstract class in Python is a class that cannot be instantiated and is meant to be inherited by other classes.\n",
        "It is used to define a common interface for a group of subclasses.\n",
        "\n",
        ">Key Points:\n",
        "\n",
        ">1. Created using the abc module and ABC class.\n",
        "\n",
        ">2. Can have abstract methods (declared but not implemented) and concrete methods (with implementation).\n",
        "\n",
        ">3. Ensures that subclasses implement the abstract methods.\n",
        "\n",
        ">4. Cannot create objects of an abstract class directly."
      ]
    },
    {
      "cell_type": "markdown",
      "metadata": {
        "id": "ieo8QeX9TPTb"
      },
      "source": [
        "16.What are the advantages of OOP?\n",
        "\n",
        ">Advantages of Object-Oriented Programming (OOP):\n",
        "\n",
        ">1. Modularity: Code is organized into classes and objects, making it easier to manage and debug.\n",
        "\n",
        ">2. Reusability: Classes can be reused across programs using inheritance.\n",
        "\n",
        ">3. Encapsulation: Data and methods are bundled together, protecting internal data from unauthorized access.\n",
        "\n",
        ">4. Abstraction: Hides complex implementation details and shows only essential features.\n",
        "\n",
        ">5. Polymorphism: Same interface can be used for different object types, providing flexibility.\n",
        "\n",
        ">6. Maintainability: OOP code is easier to update and maintain due to modular structure.\n",
        "\n",
        ">7. Real-world modeling: Objects can represent real-world entities, making programs intuitive.\n",
        "\n",
        ">8. Extensibility: New features can be added with minimal changes to existing code."
      ]
    },
    {
      "cell_type": "markdown",
      "metadata": {
        "id": "J4CjrTzmTfOM"
      },
      "source": [
        "17.What is the difference between a class variable and an instance variable?\n",
        "\n",
        "> The **comparison of Class Variable vs Instance Variable** :\n",
        "\n",
        "1. **Definition**:\n",
        "\n",
        "   * **Class Variable**: Shared by all instances of the class.\n",
        "   * **Instance Variable**: Unique to each object/instance of the class.\n",
        "\n",
        "2. **Declared**:\n",
        "\n",
        "   * **Class Variable**: Inside the class, **outside any method**.\n",
        "   * **Instance Variable**: Inside the **constructor (`__init__`)** or methods using `self`.\n",
        "\n",
        "3. **Access**:\n",
        "\n",
        "   * **Class Variable**: Accessed by **class name** or **object**.\n",
        "   * **Instance Variable**: Accessed only by the **object** using `self`.\n",
        "\n",
        "4. **Memory**:\n",
        "\n",
        "   * **Class Variable**: Stored **once** for all objects.\n",
        "   * **Instance Variable**: Each object has its **own copy**.\n",
        "\n",
        "5. **Use Case**:\n",
        "\n",
        "   * **Class Variable**: To store **common properties** for all objects.\n",
        "   * **Instance Variable**: To store **object-specific properties**.\n",
        "\n",
        "\n"
      ]
    },
    {
      "cell_type": "markdown",
      "metadata": {
        "id": "kR0vQblUTioz"
      },
      "source": [
        "18.What is multiple inheritance in Python?\n",
        "\n",
        ">**Multiple Inheritance** in Python is a feature where a **child class can inherit from more than one parent class**.\n",
        "\n",
        "> Key Points:\n",
        "\n",
        ">1. Allows a class to **reuse attributes and methods** from multiple parent classes.\n",
        ">2. Helps in **combining functionalities** from different classes.\n",
        ">3. **Method Resolution Order (MRO)** decides which parent’s method is called if multiple parents have the same method.\n",
        "\n",
        "### **Syntax:**\n",
        "\n",
        "```python\n",
        "class Parent1:\n",
        "    def func1(self):\n",
        "        print(\"Function from Parent1\")\n",
        "\n",
        "class Parent2:\n",
        "    def func2(self):\n",
        "        print(\"Function from Parent2\")\n",
        "\n",
        "class Child(Parent1, Parent2):   # Inherits from both Parent1 and Parent2\n",
        "    def func3(self):\n",
        "        print(\"Function from Child\")\n",
        "\n",
        "c = Child()\n",
        "c.func1()  # Output: Function from Parent1\n",
        "c.func2()  # Output: Function from Parent2\n",
        "c.func3()  # Output: Function from Child\n",
        "```\n",
        "\n"
      ]
    },
    {
      "cell_type": "markdown",
      "metadata": {
        "id": "MsVDsSdHTl0D"
      },
      "source": [
        "19.Explain the purpose of ‘’__str__’ and ‘__repr__’ ‘ methods in Python.\n",
        "\n",
        ">In Python, `__str__` and `__repr__` are **dunder (magic) methods** used to define the **string representation** of an object.\n",
        "\n",
        "\n",
        ">**1. `__str__`**\n",
        "\n",
        "* Purpose: Returns a **user-friendly, readable string** representation of an object.\n",
        "* Used by the **`print()`** function and **`str()`**.\n",
        "* Goal: Make the object understandable for **end users**.\n",
        "\n",
        "**Example:**\n",
        "\n",
        "```python\n",
        "class Car:\n",
        "    def __init__(self, brand, model):\n",
        "        self.brand = brand\n",
        "        self.model = model\n",
        "\n",
        "    def __str__(self):\n",
        "        return f\"{self.brand} {self.model}\"\n",
        "\n",
        "car = Car(\"Tesla\", \"Model X\")\n",
        "print(car)       # Output: Tesla Model X\n",
        "```\n",
        "\n",
        "\n",
        "\n",
        ">**2. `__repr__`**\n",
        "\n",
        "* Purpose: Returns an **unambiguous string** representation of an object, meant for **developers/debugging**.\n",
        "* Should ideally be **valid Python code** to recreate the object.\n",
        "* Used by **`repr()`** and in the **interactive interpreter**.\n",
        "\n",
        "**Example:**\n",
        "\n",
        "```python\n",
        "class Car:\n",
        "    def __init__(self, brand, model):\n",
        "        self.brand = brand\n",
        "        self.model = model\n",
        "\n",
        "    def __repr__(self):\n",
        "        return f\"Car('{self.brand}', '{self.model}')\"\n",
        "\n",
        "car = Car(\"Tesla\", \"Model X\")\n",
        "print(repr(car))  # Output: Car('Tesla', 'Model X')\n",
        "```\n",
        "\n",
        "\n"
      ]
    },
    {
      "cell_type": "markdown",
      "metadata": {
        "id": "K0Xx8p1wTpmT"
      },
      "source": [
        "20.What is the significance of the ‘super()’ function in Python?\n",
        "\n",
        ">The super() function in Python is used to call methods from a parent (superclass) inside a child (subclass).\n",
        "\n",
        ">Significance of super()\n",
        "\n",
        ">1. Access Parent Class Methods → Calls the parent class’s constructor (__init__) or other methods without explicitly naming the parent.\n",
        "\n",
        ">2. Code Reusability → Avoids rewriting parent code in the child class.\n",
        "\n",
        ">3. Supports Multiple Inheritance → Ensures the correct Method Resolution Order (MRO) is followed when multiple parents exist.\n",
        "\n",
        ">4. Clean & Maintainable Code → If the parent class name changes, super() still works."
      ]
    },
    {
      "cell_type": "markdown",
      "metadata": {
        "id": "NwZ-H4ojTst6"
      },
      "source": [
        "21.What is the significance of the __del__ method in Python?\n",
        "\n",
        ">The __del__ method in Python is a destructor method, which is called automatically when an object is about to be destroyed (i.e., when it is no longer referenced in memory).\n",
        "\n",
        ">Significance of __del__:\n",
        "\n",
        ">1. Resource Cleanup → Used to release resources like closing files, network connections, or database connections before the object is deleted.\n",
        "\n",
        ">2. Finalization → Provides a way to define custom cleanup behavior when an object’s life ends.\n",
        "\n",
        ">3. Garbage Collection Support → Called automatically by Python’s garbage collector when an object’s reference count becomes zero."
      ]
    },
    {
      "cell_type": "markdown",
      "metadata": {
        "id": "IHCJf_XeTvlg"
      },
      "source": [
        "22.What is the difference between @staticmethod and @classmethod in Python?\n",
        "\n",
        ">Difference between  @staticmethod and @classmethod in Python\n",
        "\n",
        "* **Definition**:\n",
        "  Classmethod → Bound to class, takes `cls`\n",
        "  Staticmethod → Bound to class, no `self` or `cls`\n",
        "\n",
        "* **First Argument**:\n",
        "  Classmethod → `cls` (class reference)\n",
        "  Staticmethod → No default argument\n",
        "\n",
        "* **Access**:\n",
        "  Classmethod → Can access/modify **class variables**\n",
        "  Staticmethod → Cannot access class or instance variables\n",
        "\n",
        "* **Usage**:\n",
        "  Classmethod → When you need to work with the **class state**\n",
        "  Staticmethod → When logic is **independent of class and object**\n",
        "\n",
        "* **Calling**:\n",
        "  Both can be called via **ClassName.method()** or **object.method()**\n",
        "\n"
      ]
    },
    {
      "cell_type": "markdown",
      "metadata": {
        "id": "sfwhB8BZUMuY"
      },
      "source": [
        "23.How does polymorphism work in Python with inheritance?\n",
        "\n",
        ">**Polymorphism with Inheritance in Python**\n",
        "\n",
        ">>Polymorphism means **same method name but different behavior** depending on the object calling it.\n",
        "With **inheritance**, a child class can **override** methods of the parent class, and Python decides at runtime which method to call.\n",
        "\n",
        "> **How it works:**\n",
        "\n",
        ">1. **Parent class defines a method**\n",
        ">2. **Child class overrides (redefines) the same method**\n",
        ">3. **When called through an object**, Python runs the version depending on the object type (runtime polymorphism).\n",
        "\n",
        ">**Example:**\n",
        "\n",
        "```python\n",
        "class Animal:\n",
        "    def sound(self):\n",
        "        return \"Some generic sound\"\n",
        "\n",
        "class Dog(Animal):\n",
        "    def sound(self):\n",
        "        return \"Bark\"\n",
        "\n",
        "class Cat(Animal):\n",
        "    def sound(self):\n",
        "        return \"Meow\"\n",
        "\n",
        "# Polymorphism in action\n",
        "animals = [Dog(), Cat(), Animal()]\n",
        "\n",
        "for a in animals:\n",
        "    print(a.sound())\n",
        "```\n",
        "\n",
        ">**Key Idea:**\n",
        "\n",
        ">Even though all objects (`Dog`, `Cat`, `Animal`) call the same method `.sound()`, the **behavior changes depending on the actual object** → that’s polymorphism with inheritance.\n",
        "\n"
      ]
    },
    {
      "cell_type": "markdown",
      "metadata": {
        "id": "5dZFbOE2UR5G"
      },
      "source": [
        "24.What is method chaining in Python OOP?\n",
        "\n",
        "\n",
        ">**Method Chaining in Python OOP**\n",
        "\n",
        "> **Definition:**\n",
        "Method chaining is a technique where you call **multiple methods on the same object in a single line**, because each method **returns the object itself (`self`)**.\n",
        "\n",
        "> **How it works:**\n",
        "\n",
        "* Each method in the class returns `self` instead of some other value.\n",
        "* This allows calls to be **chained together** like:\n",
        "\n",
        "  ```python\n",
        "  obj.method1().method2().method3()\n",
        "  ```\n",
        "\n",
        ">**Example:**\n",
        "\n",
        "```python\n",
        "class Calculator:\n",
        "    def __init__(self, value=0):\n",
        "        self.value = value\n",
        "\n",
        "    def add(self, num):\n",
        "        self.value += num\n",
        "        return self   # returning the object itself\n",
        "\n",
        "    def multiply(self, num):\n",
        "        self.value *= num\n",
        "        return self\n",
        "\n",
        "    def result(self):\n",
        "        return self.value\n",
        "\n",
        "# Method chaining in action\n",
        "calc = Calculator()\n",
        "output = calc.add(10).multiply(5).add(2).result()\n",
        "print(output)\n",
        "```\n",
        "\n",
        "> **Key Point:**\n",
        "\n",
        ">Without chaining → `calc.add(10); calc.multiply(5); calc.add(2)`\n",
        ">With chaining → `calc.add(10).multiply(5).add(2)`\n"
      ]
    },
    {
      "cell_type": "markdown",
      "metadata": {
        "id": "_giNVm_RUUwS"
      },
      "source": [
        "25.What is the purpose of the __call__ method in Python?\n",
        "\n",
        ">**`__call__` method in Python**\n",
        "\n",
        "> **Definition:**\n",
        "The `__call__` method makes an **object behave like a function**.\n",
        "If a class defines `__call__`, its instances can be called using `object()` syntax, just like a function.\n",
        "\n",
        "---\n",
        "\n",
        "> **Purpose:**\n",
        "\n",
        ">* To allow **objects to be invoked like functions**.\n",
        ">* Useful for **wrapping logic**, **callbacks**, **decorators**, or **function-like classes**.\n",
        "\n",
        "\n",
        ">**Example:**\n",
        "\n",
        "```python\n",
        "class Greeting:\n",
        "    def __init__(self, name):\n",
        "        self.name = name\n",
        "\n",
        "    def __call__(self, message):\n",
        "        return f\"{message}, {self.name}!\"\n",
        "\n",
        "# Create object\n",
        "greet = Greeting(\"Sakshi\")\n",
        "\n",
        "# Call object like a function\n",
        "print(greet(\"Hello\"))\n",
        "print(greet(\"Good Morning\"))\n",
        "```\n",
        "\n",
        "\n",
        ">**Key Point:**\n",
        "\n",
        "* Without `__call__`, you’d have to use a method (`greet.say(\"Hello\")`).\n",
        "* With `__call__`, the object itself can be **directly invoked** like a function.\n",
        "\n"
      ]
    },
    {
      "cell_type": "markdown",
      "metadata": {
        "id": "1T6U_yomUXbe"
      },
      "source": [
        "Practical Questions"
      ]
    },
    {
      "cell_type": "code",
      "execution_count": null,
      "metadata": {
        "colab": {
          "base_uri": "https://localhost:8080/"
        },
        "id": "cAzLmJdrQ_E9",
        "outputId": "e8f40929-566b-4429-804e-1f5d076a6ade"
      },
      "outputs": [
        {
          "name": "stdout",
          "output_type": "stream",
          "text": [
            "Parent class speak : Voice of animal\n",
            "Method overloadded by child class : Bark !\n"
          ]
        }
      ],
      "source": [
        "'''1. Create a parent class Animal with a method speak() that prints a generic message. Create a child class Dog that overrides the speak() method to print \"Bark!\".\n",
        "'''\n",
        "\n",
        "class Animal:\n",
        "  def speak(self):\n",
        "    return \"Voice of animal\"\n",
        "\n",
        "class Dog(Animal):\n",
        "  def speak(self):\n",
        "    return \"Bark !\"\n",
        "\n",
        "obj1=Animal()\n",
        "obj2=Dog()\n",
        "\n",
        "print(\"Parent class speak :\",obj1.speak())\n",
        "print(\"Method overloadded by child class :\",obj2.speak())"
      ]
    },
    {
      "cell_type": "code",
      "execution_count": null,
      "metadata": {
        "colab": {
          "base_uri": "https://localhost:8080/"
        },
        "id": "IaNII5DSXhvG",
        "outputId": "b7550e84-dbd7-4dba-b422-2c59a8fb94c2"
      },
      "outputs": [
        {
          "name": "stdout",
          "output_type": "stream",
          "text": [
            "Area of circle with radius 4 : 50.24\n",
            "Area of rectangle with sides (3,4) : 12\n"
          ]
        }
      ],
      "source": [
        "'''2. Write a program to create an abstract class Shape with a method area(). Derive classes Circle and Rectangle from it and implement the area() method in both.'''\n",
        "\n",
        "\n",
        "from abc import ABC, abstractmethod\n",
        "class Shape:\n",
        "  @abstractmethod\n",
        "  def area(self):\n",
        "    pass\n",
        "class Circle(Shape):\n",
        "  def area(self,radius):\n",
        "    return 3.14*(radius**2)\n",
        "class Rectangle(Shape):\n",
        "  def area(self,l,b):\n",
        "    return l*b\n",
        "\n",
        "obj1=Circle()\n",
        "obj2=Rectangle()\n",
        "\n",
        "print(\"Area of circle with radius 4 :\",obj1.area(4))\n",
        "print(\"Area of rectangle with sides (3,4) :\",obj2.area(3,4))\n",
        "\n"
      ]
    },
    {
      "cell_type": "code",
      "execution_count": null,
      "metadata": {
        "colab": {
          "base_uri": "https://localhost:8080/"
        },
        "id": "eFZmjZfNXlOw",
        "outputId": "e7ffa015-ca36-40c1-df36-71937148766b"
      },
      "outputs": [
        {
          "name": "stdout",
          "output_type": "stream",
          "text": [
            "Function Acessed by Car:  It is starting\n",
            "Function Acessed by Car:  Enginee started\n",
            "Function Acessed by Automatic Car:  It is starting\n",
            "Function Acessed by Automatic Car:  Enginee started\n",
            "Function Acessed by Automatic Car:  the car is moving\n"
          ]
        }
      ],
      "source": [
        "'''3. Implement a multi-level inheritance scenario where a class Vehicle has an attribute type. Derive a class Car and further derive a class ElectricCar that\n",
        "adds a battery attribute.'''\n",
        "\n",
        "class Vehicle:\n",
        "  def start(self):\n",
        "    return \"It is starting\"\n",
        "class Car(Vehicle):\n",
        "  def engine(self):\n",
        "    return \"Enginee started\"\n",
        "class Automatic_Car(Car):\n",
        "  def move(self):\n",
        "    return \"the car is moving\"\n",
        "\n",
        "obj1=Car()\n",
        "obj2=Automatic_Car()\n",
        "print(\"Function Acessed by Car: \",obj1.start())\n",
        "print(\"Function Acessed by Car: \",obj1.engine())\n",
        "print(\"Function Acessed by Automatic Car: \",obj2.start())\n",
        "print(\"Function Acessed by Automatic Car: \",obj2.engine())\n",
        "print(\"Function Acessed by Automatic Car: \",obj2.move())"
      ]
    },
    {
      "cell_type": "code",
      "execution_count": null,
      "metadata": {
        "colab": {
          "base_uri": "https://localhost:8080/"
        },
        "id": "pAI3R6uuXneT",
        "outputId": "9d2d897f-dfee-44e2-d270-17ac57600707"
      },
      "outputs": [
        {
          "name": "stdout",
          "output_type": "stream",
          "text": [
            "Fly function work differently for Bird , Sparrow , Penguin\n",
            "For bird : Genral feature of bird\n",
            "For Sparrow : Sparrow can fly\n",
            "For Penguin : Penguin can't fly\n"
          ]
        }
      ],
      "source": [
        "'''4. Demonstrate polymorphism by creating a base class Bird with a method fly(). Create two derived classes Sparrow and Penguin that override the fly() method.'''\n",
        "\n",
        "class Bird:\n",
        "  def fly(self):\n",
        "    return \"Genral feature of bird\"\n",
        "class Sparrow(Bird):\n",
        "  def fly(self):\n",
        "    return \"Sparrow can fly\"\n",
        "class Pengiun(Bird):\n",
        "  def fly(self):\n",
        "    return \"Penguin can't fly\"\n",
        "\n",
        "obj1=Bird()\n",
        "obj2 =Sparrow()\n",
        "obj3=Pengiun()\n",
        "\n",
        "print(\"Fly function work differently for Bird , Sparrow , Penguin\")\n",
        "print(\"For bird :\",obj1.fly())\n",
        "print(\"For Sparrow :\",obj2.fly())\n",
        "print(\"For Penguin :\",obj3.fly())\n"
      ]
    },
    {
      "cell_type": "code",
      "execution_count": 11,
      "metadata": {
        "colab": {
          "base_uri": "https://localhost:8080/"
        },
        "id": "7mLS_JQWXp40",
        "outputId": "90cfac79-434a-45a7-b0a8-99640a8ef66b"
      },
      "outputs": [
        {
          "name": "stdout",
          "output_type": "stream",
          "text": [
            "500 deposited successfully\n",
            "200 withdrawn successfully\n",
            "Current Balance: 1300\n"
          ]
        }
      ],
      "source": [
        "'''5. Write a program to demonstrate encapsulation by creating a class BankAccount with private attributes balance and methods to deposit, withdraw, and check balance.'''\n",
        "\n",
        "class BankAccount:\n",
        "    def __init__(self, balance=0):\n",
        "        self.__balance = balance   # private attribute\n",
        "\n",
        "    # Deposit method\n",
        "    def deposit(self, amount):\n",
        "        if amount > 0:\n",
        "            self.__balance += amount\n",
        "            print(f\"{amount} deposited successfully\")\n",
        "        else:\n",
        "            print(\"Invalid deposit amount\")\n",
        "\n",
        "    # Withdraw method\n",
        "    def withdraw(self, amount):\n",
        "        if 0 < amount <= self.__balance:\n",
        "            self.__balance -= amount\n",
        "            print(f\"{amount} withdrawn successfully\")\n",
        "        else:\n",
        "            print(\"Insufficient balance or invalid amount\")\n",
        "\n",
        "    # Check balance method\n",
        "    def check_balance(self):\n",
        "        print(f\"Current Balance: {self.__balance}\")\n",
        "\n",
        "# Demonstration\n",
        "account = BankAccount(1000)   # initial balance 1000\n",
        "account.deposit(500)\n",
        "account.withdraw(200)\n",
        "account.check_balance()\n",
        "\n",
        "\n",
        "\n"
      ]
    },
    {
      "cell_type": "code",
      "execution_count": null,
      "metadata": {
        "colab": {
          "base_uri": "https://localhost:8080/"
        },
        "id": "HaJoLHgKXryv",
        "outputId": "530f661f-e992-4eed-f161-49acb2323df7"
      },
      "outputs": [
        {
          "name": "stdout",
          "output_type": "stream",
          "text": [
            "Intrument playing \n",
            "Guitar is playing\n",
            "Piano is playing\n"
          ]
        }
      ],
      "source": [
        "'''6. Demonstrate runtime polymorphism using a method play() in a base class Instrument. Derive classes Guitar and Piano that implement their own version of play().'''\n",
        "\n",
        "class Instrument():\n",
        "  def play(self):\n",
        "    return \"Intrument playing \"\n",
        "class Guitar(Instrument):\n",
        "  def play(self):\n",
        "    return \"Guitar is playing\"\n",
        "class Piano(Instrument):\n",
        "  def play(self):\n",
        "    return \"Piano is playing\"\n",
        "\n",
        "inst=[Instrument(),Guitar(),Piano()]\n",
        "\n",
        "for i in inst:\n",
        "  print(i.play())"
      ]
    },
    {
      "cell_type": "code",
      "execution_count": null,
      "metadata": {
        "colab": {
          "base_uri": "https://localhost:8080/"
        },
        "id": "N7ixQQngXu26",
        "outputId": "37c3e3ac-a153-47c6-d181-1df13e3c9d0c"
      },
      "outputs": [
        {
          "name": "stdout",
          "output_type": "stream",
          "text": [
            "Class Add numbers (4,5) 9\n",
            "Static subtract numbers (5,4) 1\n"
          ]
        }
      ],
      "source": [
        "\n",
        "'''7. Create a class MathOperations with a class method add_numbers() to add two numbers and a static method subtract_numbers() to subtract two numbers.'''\n",
        "\n",
        "class MathOperations:\n",
        "  @classmethod\n",
        "  def add_numbers(cls,*args):\n",
        "    return sum(args)\n",
        "  @staticmethod\n",
        "  def subtract_numbers(num1,num2):\n",
        "    return num1-num2\n",
        "\n",
        "print(\"Class Add numbers (4,5)\",MathOperations.add_numbers(4,5))\n",
        "print(\"Static subtract numbers (5,4)\",MathOperations.subtract_numbers(5,4))"
      ]
    },
    {
      "cell_type": "code",
      "execution_count": 12,
      "metadata": {
        "colab": {
          "base_uri": "https://localhost:8080/"
        },
        "id": "-5NBFo-dXw4U",
        "outputId": "425e8072-660f-45b3-966b-ce931a85696e"
      },
      "outputs": [
        {
          "name": "stdout",
          "output_type": "stream",
          "text": [
            "Total Persons created: 3\n"
          ]
        }
      ],
      "source": [
        "'''8. Implement a class Person with a class method to count the total number of persons created.'''\n",
        "\n",
        "class Person:\n",
        "    count = 0\n",
        "    def __init__(self, name):\n",
        "        self.name = name\n",
        "        Person.count += 1\n",
        "    @classmethod\n",
        "    def total_persons(cls):\n",
        "        return f\"Total Persons created: {cls.count}\"\n",
        "\n",
        "p1 = Person(\"Sakshi\")\n",
        "p2 = Person(\"Ravi\")\n",
        "p3 = Person(\"Anjali\")\n",
        "\n",
        "\n",
        "print(Person.total_persons())\n",
        "\n",
        "\n"
      ]
    },
    {
      "cell_type": "code",
      "execution_count": null,
      "metadata": {
        "colab": {
          "base_uri": "https://localhost:8080/"
        },
        "id": "ZXik9U-pXzSl",
        "outputId": "d3725ef5-2e51-4078-e636-b4158ce880a9"
      },
      "outputs": [
        {
          "name": "stdout",
          "output_type": "stream",
          "text": [
            "4/3\n",
            "2/7\n"
          ]
        }
      ],
      "source": [
        "'''9. Write a class Fraction with attributes numerator and denominator. Override the str method to display the fraction as \"numerator/denominator\".'''\n",
        "\n",
        "class Fraction:\n",
        "  def __init__(self,denominator,numerator):\n",
        "    self.denominator=denominator\n",
        "    self.numerator=numerator\n",
        "  def __str__(self):\n",
        "    return f\"{self.numerator}/{self.denominator}\"\n",
        "\n",
        "f1 = Fraction(3, 4)\n",
        "f2 = Fraction(7, 2)\n",
        "\n",
        "print(f1)\n",
        "print(f2)\n",
        "\n"
      ]
    },
    {
      "cell_type": "code",
      "execution_count": null,
      "metadata": {
        "colab": {
          "base_uri": "https://localhost:8080/"
        },
        "id": "XPXYH3H0X1Yz",
        "outputId": "b6e5731f-70b5-420e-b7f3-bcb85bb752b2"
      },
      "outputs": [
        {
          "name": "stdout",
          "output_type": "stream",
          "text": [
            "(6, 8)\n"
          ]
        }
      ],
      "source": [
        "'''10. Demonstrate operator overloading by creating a class Vector and overriding the add method to add two vectors'''\n",
        "\n",
        "class Vector:\n",
        "    def __init__(self, x, y):\n",
        "        self.x = x\n",
        "        self.y = y\n",
        "\n",
        "    # Overload the + operator\n",
        "    def __add__(self, other):\n",
        "        return Vector(self.x + other.x, self.y + other.y)\n",
        "\n",
        "    # Overload str to display the vector nicely\n",
        "    def __str__(self):\n",
        "        return f\"({self.x}, {self.y})\"\n",
        "\n",
        "\n",
        "v1 = Vector(2, 3)\n",
        "v2 = Vector(4, 5)\n",
        "\n",
        "v3 = v1 + v2  # Calls v1.__add__(v2)\n",
        "\n",
        "print(v3)\n"
      ]
    },
    {
      "cell_type": "code",
      "execution_count": 1,
      "metadata": {
        "colab": {
          "base_uri": "https://localhost:8080/"
        },
        "id": "pv7_2mEPX34m",
        "outputId": "23482b6f-3c5f-41d2-c37e-65dc340185e7"
      },
      "outputs": [
        {
          "name": "stdout",
          "output_type": "stream",
          "text": [
            "Hello, my name is siddhant and I am 24 years old.\n"
          ]
        }
      ],
      "source": [
        "'''11. Create a class Person with attributes name and age. Add a method greet() that prints \"Hello, my name is {name} and I am {age} years old.\"'''\n",
        "\n",
        "class Person:\n",
        "  def __init__(self,name,age):\n",
        "    self.name=name\n",
        "    self.age=age\n",
        "  def greet(self):\n",
        "   return f\"Hello, my name is {self.name} and I am {self.age} years old.\"\n",
        "\n",
        "p=Person('siddhant',24)\n",
        "\n",
        "print(p.greet())"
      ]
    },
    {
      "cell_type": "code",
      "execution_count": 2,
      "metadata": {
        "colab": {
          "base_uri": "https://localhost:8080/"
        },
        "id": "KsbE8vaQX6H1",
        "outputId": "a293f56b-4f9a-4c7f-f174-b9ea324dc31c"
      },
      "outputs": [
        {
          "name": "stdout",
          "output_type": "stream",
          "text": [
            "Student Name: Siddhant\n",
            "Average Grade: 86.25\n"
          ]
        }
      ],
      "source": [
        "'''12. Implement a class Student with attributes name and grades. Create a method average_grade() to compute the average of the grades.'''\n",
        "\n",
        "class Student:\n",
        "  def __init__(self,name,grades):\n",
        "    self.name=name\n",
        "    self.grades=grades\n",
        "  def avg_grade(self):\n",
        "    if len(self.grades)==0:\n",
        "      return 0\n",
        "    return sum(self.grades)/len(self.grades)\n",
        "\n",
        "s=Student(\"Siddhant\", [85, 90, 78, 92])\n",
        "print(\"Student Name:\", s.name)\n",
        "print(\"Average Grade:\", s.avg_grade())"
      ]
    },
    {
      "cell_type": "code",
      "execution_count": 5,
      "metadata": {
        "colab": {
          "base_uri": "https://localhost:8080/"
        },
        "id": "H5ieA1xCX9AZ",
        "outputId": "c3ea1515-0279-4577-d5f2-c3b12803d848"
      },
      "outputs": [
        {
          "name": "stdout",
          "output_type": "stream",
          "text": [
            "Length: 10\n",
            "Width: 5\n",
            "Area of Rectangle: 50\n"
          ]
        }
      ],
      "source": [
        "'''13. Create a class Rectangle with methods set_dimensions() to set the dimensions and area() to calculate the area.'''\n",
        "\n",
        "class Rectangle:\n",
        "    def __init__(self):\n",
        "        self.length = 0\n",
        "        self.width = 0\n",
        "\n",
        "    def set_dimensions(self, length, width):\n",
        "        self.length = length\n",
        "        self.width = width\n",
        "\n",
        "    def area(self):\n",
        "        return self.length * self.width\n",
        "\n",
        "r1 = Rectangle()\n",
        "r1.set_dimensions(10, 5)\n",
        "print(\"Length:\", r1.length)\n",
        "print(\"Width:\", r1.width)\n",
        "print(\"Area of Rectangle:\", r1.area())\n",
        "\n"
      ]
    },
    {
      "cell_type": "code",
      "execution_count": 3,
      "metadata": {
        "colab": {
          "base_uri": "https://localhost:8080/"
        },
        "id": "ND4wLLbIY2_1",
        "outputId": "a0b1e456-941f-4e5c-80ed-975357eeac35"
      },
      "outputs": [
        {
          "name": "stdout",
          "output_type": "stream",
          "text": [
            "Employee Ravi Salary: 8000\n",
            "Manager Siddhant Salary: 17000\n"
          ]
        }
      ],
      "source": [
        "'''14. Create a class Employee with a method calculate_salary() that computes the salary based on hours worked and hourly rate. Create a derived class Manager that adds\n",
        " a bonus to the salary.'''\n",
        "\n",
        "class Employee:\n",
        "    def __init__(self, name, hours_worked, hourly_rate):\n",
        "        self.name = name\n",
        "        self.hours_worked = hours_worked\n",
        "        self.hourly_rate = hourly_rate\n",
        "\n",
        "    def calculate_salary(self):\n",
        "        return self.hours_worked * self.hourly_rate\n",
        "\n",
        "\n",
        "class Manager(Employee):\n",
        "    def __init__(self, name, hours_worked, hourly_rate, bonus):\n",
        "        super().__init__(name, hours_worked, hourly_rate)\n",
        "        self.bonus = bonus\n",
        "\n",
        "    def calculate_salary(self):\n",
        "        base_salary = super().calculate_salary()\n",
        "        return base_salary + self.bonus\n",
        "\n",
        "\n",
        "\n",
        "emp1 = Employee(\"Ravi\", 40, 200)\n",
        "mgr1 = Manager(\"Siddhant\", 40, 300, 5000)\n",
        "\n",
        "print(f\"Employee {emp1.name} Salary: {emp1.calculate_salary()}\")\n",
        "print(f\"Manager {mgr1.name} Salary: {mgr1.calculate_salary()}\")\n",
        "\n"
      ]
    },
    {
      "cell_type": "code",
      "execution_count": 6,
      "metadata": {
        "colab": {
          "base_uri": "https://localhost:8080/"
        },
        "id": "FcVC4I4zY55H",
        "outputId": "f62c38fc-0dc8-45d1-eadb-8200faf97b5c"
      },
      "outputs": [
        {
          "name": "stdout",
          "output_type": "stream",
          "text": [
            "Product: Laptop, Total Price: 100000\n",
            "Product: Mobile, Total Price: 45000\n"
          ]
        }
      ],
      "source": [
        "'''15. Create a class Product with attributes name, price, and quantity. Implement a method total_price() that calculates the total price of the product.'''\n",
        "\n",
        "class Product:\n",
        "    def __init__(self, name, price, quantity):\n",
        "        self.name = name\n",
        "        self.price = price\n",
        "        self.quantity = quantity\n",
        "\n",
        "    def total_price(self):\n",
        "        return self.price * self.quantity\n",
        "\n",
        "\n",
        "# Example usage\n",
        "p1 = Product(\"Laptop\", 50000, 2)\n",
        "p2 = Product(\"Mobile\", 15000, 3)\n",
        "\n",
        "print(f\"Product: {p1.name}, Total Price: {p1.total_price()}\")\n",
        "print(f\"Product: {p2.name}, Total Price: {p2.total_price()}\")\n"
      ]
    },
    {
      "cell_type": "code",
      "execution_count": 8,
      "metadata": {
        "colab": {
          "base_uri": "https://localhost:8080/"
        },
        "id": "spjNw7cXY8Ew",
        "outputId": "0a43b467-fdc2-439e-ee38-43c1a158ec9c"
      },
      "outputs": [
        {
          "name": "stdout",
          "output_type": "stream",
          "text": [
            "Cow Sound: Moo\n",
            "Sheep Sound: Baa\n"
          ]
        }
      ],
      "source": [
        "'''16. Create a class Animal with an abstract method sound(). Create two derived classes Cow and Sheep that implement the sound() method.'''\n",
        "\n",
        "from abc import ABC, abstractmethod\n",
        "\n",
        "class Animal(ABC):   # Abstract class\n",
        "    @abstractmethod\n",
        "    def sound(self):\n",
        "        pass\n",
        "\n",
        "class Cow(Animal):\n",
        "    def sound(self):\n",
        "        return \"Moo\"\n",
        "\n",
        "class Sheep(Animal):\n",
        "    def sound(self):\n",
        "        return \"Baa\"\n",
        "\n",
        "cow = Cow()\n",
        "sheep = Sheep()\n",
        "\n",
        "print(\"Cow Sound:\", cow.sound())\n",
        "print(\"Sheep Sound:\", sheep.sound())\n"
      ]
    },
    {
      "cell_type": "code",
      "execution_count": 9,
      "metadata": {
        "colab": {
          "base_uri": "https://localhost:8080/"
        },
        "id": "4U0aaPeKY-PU",
        "outputId": "17f504f1-db4b-42cc-ae72-a6cd6de18545"
      },
      "outputs": [
        {
          "name": "stdout",
          "output_type": "stream",
          "text": [
            "'The Alchemist' by Paulo Coelho, published in 1988\n",
            "'Python Crash Course' by Eric Matthes, published in 2015\n"
          ]
        }
      ],
      "source": [
        "'''17. Create a class Book with attributes title, author, and year_published. Add a method get_book_info() that returns a formatted string with the book's details.'''\n",
        "\n",
        "class Book:\n",
        "    def __init__(self, title, author, year_published):\n",
        "        self.title = title\n",
        "        self.author = author\n",
        "        self.year_published = year_published\n",
        "\n",
        "    def get_book_info(self):\n",
        "        return f\"'{self.title}' by {self.author}, published in {self.year_published}\"\n",
        "\n",
        "\n",
        "b1 = Book(\"The Alchemist\", \"Paulo Coelho\", 1988)\n",
        "b2 = Book(\"Python Crash Course\", \"Eric Matthes\", 2015)\n",
        "\n",
        "print(b1.get_book_info())\n",
        "print(b2.get_book_info())\n"
      ]
    },
    {
      "cell_type": "code",
      "execution_count": 10,
      "metadata": {
        "colab": {
          "base_uri": "https://localhost:8080/"
        },
        "id": "S-8BPLEkZAc-",
        "outputId": "d4409d45-7d4f-492a-fb33-b26260c6bb10"
      },
      "outputs": [
        {
          "name": "stdout",
          "output_type": "stream",
          "text": [
            "House located at 123 Green Street, Price: ₹5000000\n",
            "Mansion located at 45 Royal Avenue, Price: ₹20000000, Rooms: 15\n"
          ]
        }
      ],
      "source": [
        "'''18. Create a class House with attributes address and price. Create a derived class Mansion that adds an attribute number_of_rooms.'''\n",
        "\n",
        "class House:\n",
        "    def __init__(self, address, price):\n",
        "        self.address = address\n",
        "        self.price = price\n",
        "\n",
        "    def get_info(self):\n",
        "        return f\"House located at {self.address}, Price: ₹{self.price}\"\n",
        "\n",
        "\n",
        "class Mansion(House):\n",
        "    def __init__(self, address, price, number_of_rooms):\n",
        "        super().__init__(address, price)\n",
        "        self.number_of_rooms = number_of_rooms\n",
        "\n",
        "    def get_info(self):\n",
        "        return f\"Mansion located at {self.address}, Price: ₹{self.price}, Rooms: {self.number_of_rooms}\"\n",
        "\n",
        "h1 = House(\"123 Green Street\", 5000000)\n",
        "m1 = Mansion(\"45 Royal Avenue\", 20000000, 15)\n",
        "\n",
        "print(h1.get_info())\n",
        "print(m1.get_info())\n"
      ]
    }
  ],
  "metadata": {
    "colab": {
      "provenance": []
    },
    "kernelspec": {
      "display_name": "Python 3",
      "name": "python3"
    },
    "language_info": {
      "codemirror_mode": {
        "name": "ipython",
        "version": 3
      },
      "file_extension": ".py",
      "mimetype": "text/x-python",
      "name": "python",
      "nbconvert_exporter": "python",
      "pygments_lexer": "ipython3",
      "version": "3.9.6"
    }
  },
  "nbformat": 4,
  "nbformat_minor": 0
}
